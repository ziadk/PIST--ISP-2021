{
 "cells": [
  {
   "cell_type": "code",
   "execution_count": 96,
   "metadata": {},
   "outputs": [],
   "source": [
    "import warnings\n",
    "warnings.filterwarnings('ignore')"
   ]
  },
  {
   "cell_type": "code",
   "execution_count": 474,
   "metadata": {},
   "outputs": [],
   "source": [
    "import pandas as pd\n",
    "import numpy as np\n",
    "import matplotlib.pyplot as plt \n",
    "import scipy.stats as ss\n",
    "from sklearn.base import BaseEstimator\n",
    "import inspect\n",
    "from collections import Counter\n",
    "from sklearn.metrics import make_scorer,recall_score,roc_auc_score,plot_confusion_matrix,f1_score\n",
    "from sklearn.utils import resample\n",
    "from sklearn.model_selection import train_test_split,StratifiedShuffleSplit\n",
    "from sklearn.linear_model import LogisticRegression,SGDClassifier,HuberRegressor,RANSACRegressor,TheilSenRegressor\n",
    "from sklearn.ensemble import RandomForestClassifier,BaggingClassifier,AdaBoostClassifier,IsolationForest,ExtraTreesClassifier\n",
    "from sklearn.naive_bayes import GaussianNB\n",
    "from sklearn.svm import SVC,OneClassSVM\n",
    "from sklearn.model_selection import RepeatedKFold,RepeatedStratifiedKFold,cross_val_score,cross_validate,GridSearchCV\n",
    "from sklearn.metrics import accuracy_score\n",
    "from sklearn.cluster import MeanShift\n",
    "from imblearn.over_sampling import RandomOverSampler,SMOTE, ADASYN\n",
    "from imblearn.under_sampling import RandomUnderSampler,NearMiss,TomekLinks,ClusterCentroids,EditedNearestNeighbours,NeighbourhoodCleaningRule\n",
    "from imblearn.datasets import make_imbalance\n",
    "from imblearn.pipeline import Pipeline\n",
    "from sklearn.base import BaseEstimator,clone\n",
    "from sklearn.multiclass import OneVsRestClassifier,OneVsOneClassifier\n",
    "from sklearn.preprocessing import RobustScaler,StandardScaler,LabelEncoder\n",
    "import time\n",
    "from cleanlab.classification import LearningWithNoisyLabels\n",
    "from cleanlab.noise_generation import generate_noise_matrix_from_trace\n",
    "from cleanlab.noise_generation import generate_noisy_labels\n",
    "from cleanlab.util import print_noise_matrix\n",
    "import copy\n",
    "from skclean.models import RobustLR,RobustForest\n",
    "from skclean.simulate_noise import UniformNoise\n",
    "from sklearn.neighbors import KNeighborsClassifier,DistanceMetric\n",
    "from sklearn.svm import SVC\n",
    "import eif as eif\n",
    "from sklearn.impute import SimpleImputer\n",
    "from skclean.detectors import MCS"
   ]
  },
  {
   "cell_type": "code",
   "execution_count": 465,
   "metadata": {},
   "outputs": [],
   "source": [
    "from pyod.models.pca import PCA\n",
    "from pyod.models.mcd import MCD\n",
    "from pyod.models.ocsvm import OCSVM\n",
    "from pyod.models.lof import LOF\n",
    "from pyod.models.cblof import CBLOF\n",
    "from pyod.models.knn import KNN\n",
    "from pyod.models.hbos import HBOS\n",
    "from pyod.models.abod import ABOD\n",
    "from pyod.models.feature_bagging import FeatureBagging\n",
    "from pyod.models.lscp import LSCP\n",
    "from pyod.models.lmdd import LMDD\n",
    "from pyod.models.copod import COPOD\n",
    "from pyod.models.sos import SOS\n",
    "from pyod.models.sod import SOD\n",
    "from pyod.models.so_gaal import SO_GAAL\n",
    "from pyod.models.mo_gaal import MO_GAAL\n"
   ]
  },
  {
   "cell_type": "markdown",
   "metadata": {},
   "source": [
    "## Importation Données"
   ]
  },
  {
   "cell_type": "code",
   "execution_count": 5,
   "metadata": {},
   "outputs": [
    {
     "data": {
      "text/html": [
       "<div>\n",
       "<style scoped>\n",
       "    .dataframe tbody tr th:only-of-type {\n",
       "        vertical-align: middle;\n",
       "    }\n",
       "\n",
       "    .dataframe tbody tr th {\n",
       "        vertical-align: top;\n",
       "    }\n",
       "\n",
       "    .dataframe thead th {\n",
       "        text-align: right;\n",
       "    }\n",
       "</style>\n",
       "<table border=\"1\" class=\"dataframe\">\n",
       "  <thead>\n",
       "    <tr style=\"text-align: right;\">\n",
       "      <th></th>\n",
       "      <th>A1</th>\n",
       "      <th>A2</th>\n",
       "      <th>A3</th>\n",
       "      <th>A4</th>\n",
       "      <th>A5</th>\n",
       "      <th>A6</th>\n",
       "      <th>A7</th>\n",
       "      <th>A8</th>\n",
       "      <th>A9</th>\n",
       "      <th>A10</th>\n",
       "      <th>S</th>\n",
       "    </tr>\n",
       "  </thead>\n",
       "  <tbody>\n",
       "    <tr>\n",
       "      <th>0</th>\n",
       "      <td>16</td>\n",
       "      <td>5</td>\n",
       "      <td>1</td>\n",
       "      <td>1</td>\n",
       "      <td>1</td>\n",
       "      <td>2</td>\n",
       "      <td>1</td>\n",
       "      <td>3</td>\n",
       "      <td>1</td>\n",
       "      <td>1</td>\n",
       "      <td>2</td>\n",
       "    </tr>\n",
       "    <tr>\n",
       "      <th>1</th>\n",
       "      <td>41</td>\n",
       "      <td>5</td>\n",
       "      <td>4</td>\n",
       "      <td>4</td>\n",
       "      <td>5</td>\n",
       "      <td>7</td>\n",
       "      <td>10</td>\n",
       "      <td>3</td>\n",
       "      <td>2</td>\n",
       "      <td>1</td>\n",
       "      <td>2</td>\n",
       "    </tr>\n",
       "    <tr>\n",
       "      <th>2</th>\n",
       "      <td>15</td>\n",
       "      <td>3</td>\n",
       "      <td>1</td>\n",
       "      <td>1</td>\n",
       "      <td>1</td>\n",
       "      <td>2</td>\n",
       "      <td>2</td>\n",
       "      <td>3</td>\n",
       "      <td>1</td>\n",
       "      <td>1</td>\n",
       "      <td>2</td>\n",
       "    </tr>\n",
       "    <tr>\n",
       "      <th>3</th>\n",
       "      <td>41</td>\n",
       "      <td>6</td>\n",
       "      <td>8</td>\n",
       "      <td>8</td>\n",
       "      <td>1</td>\n",
       "      <td>3</td>\n",
       "      <td>4</td>\n",
       "      <td>3</td>\n",
       "      <td>7</td>\n",
       "      <td>1</td>\n",
       "      <td>2</td>\n",
       "    </tr>\n",
       "    <tr>\n",
       "      <th>4</th>\n",
       "      <td>17</td>\n",
       "      <td>4</td>\n",
       "      <td>1</td>\n",
       "      <td>1</td>\n",
       "      <td>3</td>\n",
       "      <td>2</td>\n",
       "      <td>1</td>\n",
       "      <td>3</td>\n",
       "      <td>1</td>\n",
       "      <td>1</td>\n",
       "      <td>2</td>\n",
       "    </tr>\n",
       "  </tbody>\n",
       "</table>\n",
       "</div>"
      ],
      "text/plain": [
       "   A1  A2  A3  A4  A5  A6  A7  A8  A9  A10  S\n",
       "0  16   5   1   1   1   2   1   3   1    1  2\n",
       "1  41   5   4   4   5   7  10   3   2    1  2\n",
       "2  15   3   1   1   1   2   2   3   1    1  2\n",
       "3  41   6   8   8   1   3   4   3   7    1  2\n",
       "4  17   4   1   1   3   2   1   3   1    1  2"
      ]
     },
     "execution_count": 5,
     "metadata": {},
     "output_type": "execute_result"
    }
   ],
   "source": [
    "df = pd.read_csv('wisconsin.csv',sep=',')\n",
    "df.head()"
   ]
  },
  {
   "cell_type": "code",
   "execution_count": 6,
   "metadata": {},
   "outputs": [
    {
     "name": "stdout",
     "output_type": "stream",
     "text": [
      "Format Features:(663, 10) ; Format Labels:(663,)\n"
     ]
    }
   ],
   "source": [
    "# Division en Features & Labels - Versions sans bruit\n",
    "dfVal = df.values\n",
    "X_clean, y_clean = dfVal[:, :-1], dfVal[:, -1]\n",
    "print('Format Features:{} ; Format Labels:{}'.format(X_clean.shape,y_clean.shape))"
   ]
  },
  {
   "cell_type": "markdown",
   "metadata": {},
   "source": [
    "## Baseline - Clean Data "
   ]
  },
  {
   "cell_type": "code",
   "execution_count": 88,
   "metadata": {},
   "outputs": [
    {
     "name": "stdout",
     "output_type": "stream",
     "text": [
      "Testing Accuracy: 0.9679 ; Training Accuracy: 0.9713 ; Roc_Auc: 0.9638 \n"
     ]
    }
   ],
   "source": [
    "# On instancie l'objet cross-validation avec stratification et répétition\n",
    "cv = RepeatedStratifiedKFold(n_splits=10, n_repeats=3, random_state=1)\n",
    "# On instancie le modèle\n",
    "cv_clean_y = cross_validate(LogisticRegression(random_state=1), X_clean, y_clean, scoring={'accuracy':make_scorer(accuracy_score),\n",
    "                                                       'specificity': make_scorer(recall_score,pos_label=4,average='weighted'),\n",
    "                                                       'roc_auc':make_scorer(roc_auc_score) }, \n",
    "                            cv=cv, n_jobs=-1,return_estimator=True,return_train_score=True)\n",
    "# On récupère les scores au pluriel puisque nous validons sur plusieurs vagues et on moyenne sur ces différents scores\n",
    "print('Testing Accuracy: %.4f ; Training Accuracy: %.4f ; Roc_Auc: %.4f ' % (np.mean(cv_clean_y['test_accuracy']),\n",
    "                                                               np.mean(cv_clean_y['train_accuracy']),\n",
    "                                                               np.mean(cv_clean_y['test_roc_auc'])))"
   ]
  },
  {
   "cell_type": "markdown",
   "metadata": {},
   "source": [
    "## Métrique utilisé - ELA"
   ]
  },
  {
   "attachments": {
    "image.png": {
     "image/png": "[encoded data removed]"
    }
   },
   "cell_type": "markdown",
   "metadata": {},
   "source": [
    "L'<b>Equalized Loss of Accuracy</b> est proposée par Sáez et al. et combine la robustesse et un facteur dépendant de la précision initiale. Cette mesure tente de minimiser les problèmes liés à l'examen individuel des mesures de performance et de robustesse et peut être utilisée pour comparer facilement différents classificateurs [1].  La mesure de l'ELA est :<br>\n",
    "![image.png](attachment:image.png) <br>\n",
    "où $A_{x\\%}$ est l'accuracy au niveau de bruit $x\\%$ et $A_{0\\%}$ est l'accuracy au niveau sans bruit. <br>\n",
    "\n",
    "\n",
    "\n",
    "[1]: J. A. Sáez, J. Luengo, and F. Herrera, “Evaluating the classifier behavior with noisy data considering performance\n",
    "and robustness: The Equalized Loss of Accuracy measure”ELSEVIER, Neurocomputing 176 (2016) 26-35. "
   ]
  },
  {
   "cell_type": "code",
   "execution_count": 81,
   "metadata": {},
   "outputs": [],
   "source": [
    "#Implémentation\n",
    "def ELA(est):\n",
    "    return (1-np.mean(est['test_accuracy']))/np.mean(cv_clean_y['test_accuracy'])"
   ]
  },
  {
   "cell_type": "markdown",
   "metadata": {},
   "source": [
    "## Introduction de bruit uniforme"
   ]
  },
  {
   "cell_type": "markdown",
   "metadata": {},
   "source": [
    "Corruption/erreur représentée dans les valeurs d'attribut des instances dans un ensemble de données est appelé bruit d'attribut: les valeurs d'attribut erronées,manquantes, inconnues ou incomplètes. Des efforts de recherche ont été entrepris pour traiter du bruit d'attribut et l'élimination est l'un des moyens couramment utilisés.<br>\n",
    "Toutefois, leurs résultats montrent que l'élimination des cas contenant le bruit d'attribut n'est pas une bonne idée, car pouvant contenir de l'information . Par conséquent, le traitement du bruit d'attributest plus difficile et la recherche dans ce domaine n'a pas beaucoup de progrès, à l'exception de quelques efforts<br> \n",
    "On essaiera de traiter ce cas par la suite"
   ]
  },
  {
   "cell_type": "markdown",
   "metadata": {},
   "source": [
    "Afin de pouvoir contrôler le niveau de bruit dans l'ensemble de données, nous avons ajouté manuellement x% de bruit dans l'ensemble de données en changeant aléatoirement les labels de classe d'exactement x% des instances par d'autres classes. "
   ]
  },
  {
   "cell_type": "code",
   "execution_count": 82,
   "metadata": {},
   "outputs": [
    {
     "name": "stdout",
     "output_type": "stream",
     "text": [
      "Counter({2: 410, 4: 253})\n"
     ]
    }
   ],
   "source": [
    "X_dirty,y_dirty=UniformNoise(noise_level=0.2 # Bruit 20%\n",
    "                             ,random_state=1).fit_transform(X_clean.copy(),y_clean.copy())\n",
    "print(Counter(y_dirty))"
   ]
  },
  {
   "cell_type": "code",
   "execution_count": 10,
   "metadata": {},
   "outputs": [
    {
     "name": "stdout",
     "output_type": "stream",
     "text": [
      "Counter({2: 434, 4: 229})\n"
     ]
    }
   ],
   "source": [
    "print(Counter(y_clean))"
   ]
  },
  {
   "cell_type": "code",
   "execution_count": 89,
   "metadata": {},
   "outputs": [
    {
     "name": "stdout",
     "output_type": "stream",
     "text": [
      "Testing Accuracy: 0.7667 ; Training Accuracy: 0.7731 ; Roc_Auc: 0.7362, ELA: 0.2411\n"
     ]
    }
   ],
   "source": [
    "# On instancie l'objet cross-validation avec stratification et répétition\n",
    "cv = RepeatedStratifiedKFold(n_splits=10, n_repeats=3, random_state=1)\n",
    "etapes = [('StandardScaling',  StandardScaler()),\n",
    "    ('modele',LogisticRegression(C=0.1,random_state=1,solver='saga',penalty='l1'))]\n",
    "pipeline = Pipeline(steps=etapes)\n",
    "# On instancie le modèle\n",
    "cv_logreg_y = cross_validate(pipeline, X_dirty, y_dirty, scoring={'accuracy':make_scorer(accuracy_score),\n",
    "                                                       'specificity': make_scorer(recall_score,pos_label=4,average='weighted'),\n",
    "                                                       'roc_auc':make_scorer(roc_auc_score) }, \n",
    "                            cv=cv, n_jobs=-1,return_estimator=True,return_train_score=True)\n",
    "# On récupère les scores au pluriel puisque nous validons sur plusieurs vagues et on moyenne sur ces différents scores\n",
    "print('Testing Accuracy: %.4f ; Training Accuracy: %.4f ; Roc_Auc: %.4f, ELA: %.4f' % (np.mean(cv_logreg_y['test_accuracy']),\n",
    "                                                               np.mean(cv_logreg_y['train_accuracy']),\n",
    "                                                               np.mean(cv_logreg_y['test_roc_auc']),\n",
    "                                                               ELA(cv_logreg_y)))"
   ]
  },
  {
   "cell_type": "markdown",
   "metadata": {},
   "source": [
    "# Apprentissage supervisé\n"
   ]
  },
  {
   "cell_type": "markdown",
   "metadata": {},
   "source": [
    "## Algorithmes robustes"
   ]
  },
  {
   "cell_type": "markdown",
   "metadata": {},
   "source": [
    "#### Remaque : Robuste signifie résistant aux outliers"
   ]
  },
  {
   "cell_type": "markdown",
   "metadata": {},
   "source": [
    "###  MOM"
   ]
  },
  {
   "cell_type": "markdown",
   "metadata": {},
   "source": [
    "De nombreux algorithmes d'apprentissage sont basés sur un paradigme connu sous le nom de minimisation du risque empirique/empirical risk minimization (ERM)  qui consiste à trouver l'estimateur $\\widehat{f}$ qui minimise une estimation du risque.<br>\n",
    "<h3><center> $\\widehat{f} = \\text{argmin}_{f\\in F}\\frac{1}{n}\\sum_{i=1}^n\\ell(f(X_i),y_i),$</center></h3>\n",
    "où le $\\ell$ est une fonction de perte (par exemple la distance au carré dans les problèmes de régression). Autrement dit, nous essayons de minimiser une estimation du risque attendu et cette estimation correspond à une moyenne empirique. Cependant, il est bien connu que la moyenne empirique n'est pas robuste aux données extrêmes et ces valeurs extrêmes auront une grande influence sur l'estimation de $\\widehat{f}$  . Le principe de l'algorithme de pondération robuste est de s'appuyer sur un estimateur robuste (tel que la Mean-of-Medians (MOM) ou le Huber Estimator au lieu de la moyenne empirique dans l'équation ci-dessus <br>\n",
    "En pratique, on peut définir des poids $w_i$ qui dépendent du $i^{ème}$ échantillon, le poids $w_i$ étant très faible lorsque la $i^{ème}$ donnée  est aberrante et important dans le cas contraire. De cette façon, le problème est réduit à l'optimisation suivante :<br>\n",
    "<h3><center> $\\min_{f}\\, \\frac{1}{n} \\sum_{i=1}^n w_i\\ell(f(X_i),y_i)$</center></h3> <br>\n",
    "\n",
    "Ref:[Guillaume Lecué, Matthieu Lerasle and Timothée Mathieu. “Robust classification via MOM minimization”, Machine Learning Journal (2020)]"
   ]
  },
  {
   "cell_type": "markdown",
   "metadata": {},
   "source": [
    "L'approche est mise en œuvre sous la forme d'un méta-algorithme qui prend comme entrée un estimateur de base<br>\n",
    "À chaque étape, l'algorithme estime les poids d'échantillon qui sont censés être petits pour les valeurs aberrantes et grands pour les valeurs incrustées, puis nous effectuons une étape d'optimisation en utilisant l'algorithme d'optimisation de l'estimateur de base.<br>\n",
    "Cet algorithme prend en charge deux schémas de pondération : Les poids de type Huber et les poids de la MoM. "
   ]
  },
  {
   "cell_type": "markdown",
   "metadata": {},
   "source": [
    "<b>Median-of-means weights:</b> le paramètre \"k\" est un entier non négatif, lorsque k=0 l'estimateur est exactement le même que l'estimateur de base et lorsque k=taille_de_l'échantillon/2 l'estimateur est très robuste mais moins efficace sur les inliers. Une bonne heuristique consiste à choisir k comme estimation du nombre d'observations aberrantes. En pratique, si k=Nul, il est estimé en utilisant le nombre de points éloignés de la médiane de plus de 1,45 fois l'intervalle interquartile."
   ]
  },
  {
   "cell_type": "raw",
   "metadata": {},
   "source": [
    "TY  - JOUR\n",
    "AU  - Lecué, Guillaume\n",
    "AU  - Lerasle, Matthieu\n",
    "AU  - Mathieu, Timlothée\n",
    "PY  - 2020\n",
    "DA  - 2020/08/01\n",
    "TI  - Robust classification via MOM minimization\n",
    "JO  - Machine Learning\n",
    "SP  - 1635\n",
    "EP  - 1665\n",
    "VL  - 109\n",
    "IS  - 8\n",
    "AB  - We present an extension of Chervonenkis and Vapnik’s classical empirical risk minimization (ERM) where \n",
    "the empirical risk is replaced by a median-of-means (MOM) estimator of the risk.\n",
    "The resulting new estimators are called MOM minimizers. While ERM is sensitive to corruption of the dataset for\n",
    "many classical loss functions used in classification, we show that MOM minimizers behave well in theory, in the sense that \n",
    "it achieves Vapnik’s (slow) rates of convergence under weak assumptions: the functions in the hypothesis class are \n",
    "only required to have a finite second moment and some outliers may also have corrupted the dataset.\n",
    "We propose algorithms, inspired by MOM minimizers, which may be interpreted as MOM version of block stochastic gradient\n",
    "descent (BSGD). The key point of these algorithms is that the block of data onto which a descent step is performed is chosen\n",
    "according to its “ centrality” among the other blocks. This choice of “ descent block” makes these algorithms robust to \n",
    "outliers; also, this is the only extra step added to classical BSGD algorithms. As a consequence, classical BSGD algorithms\n",
    "can be easily turn into robust MOM versions. Moreover, MOM algorithms perform a smart subsampling which may help to reduce \n",
    "substantially time computations and memory resources when applied to non linear algorithms. These empirical performances are\n",
    "illustrated on both simulated and real datasets.\n",
    "SN  - 1573-0565\n",
    "UR  - https://doi.org/10.1007/s10994-019-05863-6\n",
    "DO  - 10.1007/s10994-019-05863-6\n",
    "ID  - Lecué2020\n",
    "ER  - "
   ]
  },
  {
   "cell_type": "code",
   "execution_count": 84,
   "metadata": {},
   "outputs": [],
   "source": [
    "#Robust\n",
    "#Median of Means\n",
    "#Implémentation inspirée par:\n",
    "#[Stanislav Minsker and Timothée Mathieu. “Excess risk bounds in robust empirical risk minimization” arXiv preprint (2019). arXiv:1910.07485.]\n",
    "#[https://github.com/lecueguillaume]\n",
    "# Modifié pour Projet PIST par KERMADI ZIAD\n",
    "\n",
    "def blockMOM(K,x):\n",
    "    '''Sample the indices of K blocks for data x using a random permutation\n",
    "    Parameters\n",
    "    ----------\n",
    "    K : int\n",
    "        number of blocks\n",
    "    x : array like, length = n_sample\n",
    "        sample whose size correspong to the size of the sample we want to do blocks for.\n",
    "    Returns \n",
    "    -------\n",
    "    list of size K containing the lists of the indices of the blocks, the size of the lists are contained in [n_sample/K,2n_sample/K]\n",
    "    '''\n",
    "    b=int(np.floor(len(x)/K))\n",
    "    nb=K-(len(x)-b*K)\n",
    "    nbpu=len(x)-b*K\n",
    "    perm=np.random.permutation(len(x))\n",
    "    blocks=[[(b+1)*g+f for f in range(b+1) ] for g in range(nbpu)]\n",
    "    blocks+=[[nbpu*(b+1)+b*g+f for f in range(b)] for g in range(nb)]\n",
    "    return [perm[b] for  b in blocks]\n",
    "\n",
    "def MOM(x,blocks):\n",
    "    '''Compute the median of means of x using the blocks \n",
    "    Parameters\n",
    "    ----------\n",
    "    x : array like, length = n_sample\n",
    "        sample from which we want an estimator of the mean\n",
    "    blocks : list of list, provided by the function blockMOM.\n",
    "    Return\n",
    "    ------\n",
    "    The median of means of x using the block blocks, a float.\n",
    "    '''\n",
    "    means_blocks=[np.mean([ x[f] for f in ind]) for ind in blocks]\n",
    "    indice=np.argsort(means_blocks)[int(np.ceil(len(means_blocks)/2))]\n",
    "    return means_blocks[indice],indice\n",
    "\n",
    "class logregMOM_binary(BaseEstimator):\n",
    "    '''Class of the binary classification for the logistic regression MOM.\n",
    "    \n",
    "    Parameters\n",
    "    ----------\n",
    "    w0 : array-like, length = n_features + 1, default ones(n_features + 1)\n",
    "        initial coefficients (including the intercept) of the classifier.\n",
    "    K : int, default 10\n",
    "        number of blocks for the computation of the MOM. A big value of K deals with more outliers but small values of K are better for the performance when there are no outliers.\n",
    "        \n",
    "    eta0 : float, default 1\n",
    "        step size parameter, the step size is defined as the i-th iteration by 1/(1+eta0*i).\n",
    "    beta : float, default 1\n",
    "        L2 regularization parameter.\n",
    "    epoch : int, default 200\n",
    "        number of iterations before the end of the algorithm.\n",
    "    agg : int, default 3\n",
    "        number of runs of the algorithm on which we aggregate. One might want to decrease this number if the complexity is a problem.\n",
    "    compter : boolean, default False\n",
    "        used for outlier detection, if compter=True, the number of time each point is used in the algorithm will be recorded in the attribute \"counts\".\n",
    "    progress : boolean, default False\n",
    "        display a progress bar to monitor the algorithm on each run (agg > 1 means several progress bar).\n",
    "    verbose : boolean, default True\n",
    "        display a message at the end of each run if agg > 1.\n",
    "    multi : {'ovr','ovo'} , default 'ovr'\n",
    "        method used to go from binary classification to multiclass classification. 'ovr' means \"one vs the rest\" and 'ovo' means \"one vs one\" .\n",
    "        \n",
    "    Attributes\n",
    "    ----------\n",
    "    \n",
    "    w0 : array like, length = n_features + 1\n",
    "        w0 is updated in the algorithm, provides with the final coefficients of the decision function.\n",
    "    counts : array like, length = n_sampled\n",
    "        the i-th element record the number of time the i-th element of the training dataset X has been used. Only if compter=True.\n",
    "    Methods\n",
    "    -------\n",
    "    fit(X,y) : fit the model\n",
    "        X : numpy matrix size = (n_samples,n_features)\n",
    "        y : array like, length = n_samples\n",
    "    predict(X) : predict the class of the points in X\n",
    "        X : numpy matrix size = (n_samples,n_features)\n",
    "        returns array-like, length = n_samples.\n",
    "    predict_proba(X) : predict the probability that each point belong to each class.\n",
    "        X : numpy matrox size = (n_samples,n_features)\n",
    "        returns matrix, size = (n_samples,n_class)\n",
    "     '''   \n",
    "    def __init__(self,w0=None,K=10,eta0=1,beta=1,epoch=200,agg=3,compter=False,progress=False,verbose=True,power=2/3):\n",
    "        args, _, _, values = inspect.getargvalues(inspect.currentframe())\n",
    "        values.pop(\"self\")\n",
    "        for arg, val in values.items():\n",
    "            setattr(self, arg, val)\n",
    "    def fit1(self,x,Y):\n",
    "        w=np.array(self.w0)\n",
    "        X=np.hstack([np.array(x),np.ones(len(x)).reshape(len(x),1)])\n",
    "\n",
    "        pas=lambda i : 1/(1+self.eta0*i)**self.power\n",
    "        if self.compter:\n",
    "            self.counts=np.zeros(len(X))\n",
    "        compteur=1\n",
    "        fincompteur=1\n",
    "        if self.progress:\n",
    "            Bar=progressbar(self.epoch)\n",
    "        for f in range(self.epoch):\n",
    "            if self.progress:\n",
    "                Bar.update(f)\n",
    "            losses=self.perte(X,Y,w)\n",
    "            blocks=blockMOM(self.K,X)\n",
    "\n",
    "            compteur+=1\n",
    "            risque,b=MOM(losses,blocks)\n",
    "            Xb=X[blocks[b]]\n",
    "            yb=Y[blocks[b]]\n",
    "            #IRLS avec regularisation L2\n",
    "            eta=self.sigmoid(Xb.dot(w.reshape([len(w),1]))).reshape(len(Xb))\n",
    "            D=np.diag(eta*(1-eta))\n",
    "            w=w*(1-pas(f))+pas(f)*np.linalg.inv(np.transpose(Xb).dot(D).dot(Xb)+self.beta*np.eye(len(X[0]))).dot(np.transpose(Xb).dot(yb-eta)-self.beta*w)\n",
    "            if self.compter:\n",
    "                self.counts[blocks[b]]+=1\n",
    "\n",
    "            \n",
    "        return w\n",
    "\n",
    "    def fit(self,x,Y):\n",
    "        if self.w0 is None:\n",
    "            self.w0=np.zeros(len(x[0])+1)\n",
    "        y=np.array(Y).copy()\n",
    "        self.values=np.sort(list(set(Y)))\n",
    "        yj=y.copy()\n",
    "        indmu=yj!=self.values[1]\n",
    "        indu=yj==self.values[1]\n",
    "        yj[indmu]=0\n",
    "        yj[indu]=1\n",
    "        w=np.zeros(len(self.w0))\n",
    "        for f in range(self.agg):\n",
    "            if self.agg !=1 and self.verbose:\n",
    "                print('Passage '+str(f))\n",
    "            w+=self.fit1(x,yj)\n",
    "        self.w=w/self.agg\n",
    "\n",
    "    def perte(self,X,y,w):\n",
    "        pred=X.dot(w.reshape([len(w),1]))\n",
    "        pred=pred.reshape(len(X))\n",
    "        return np.log(1+np.exp(-(2*y-1)*pred))\n",
    "\n",
    "    def predict(self,x):\n",
    "        X=x.copy\n",
    "        X=np.hstack([x,np.ones(len(x)).reshape(len(x),1)])\n",
    "\n",
    "        pred=(X.dot(self.w.reshape([len(self.w),1]))).reshape(len(X))\n",
    "        return np.array([self.values[int(p>0)] for p in pred])\n",
    "\n",
    "    def predict_proba(self,x):\n",
    "        X=x.copy\n",
    "        X=np.hstack([x,np.ones(len(x)).reshape(len(x),1)])\n",
    "        pred=self.sigmoid(X.dot(self.w.reshape([len(self.w)])))\n",
    "        return np.array([[1-p,p] for p in pred])\n",
    "\n",
    "    def sigmoid(self,x):\n",
    "        return 1/(1+np.exp(-x))\n",
    "\n",
    "    def score(self,x,y):\n",
    "        pred=self.predict(x)\n",
    "        return np.mean(pred==np.array(y))"
   ]
  },
  {
   "cell_type": "markdown",
   "metadata": {},
   "source": [
    "<b>=> max_iter & eta0</b> sont des choix importants et je devrais mettre un cvgridsearch pour leur tuning mais on diffère cet exercice pour un autre temps ( Il est 5h du matin ^^ )<br>\n",
    "<b>=> Epoch</b> plus grande donne des résultats meilleurs mais dans plus de temps<br>\n",
    "<b>=> </b>Puisque cet algorithme a une loss function à base de calcul distanciel:Le <b>Scaling</b> des données est important et on fait donc un Scaling robuste des données avec RobustScaler\n",
    "<b>=> </b>Il est conseillé de choisir <b>K </b> tel que le nombre d'outliers si on les connait"
   ]
  },
  {
   "cell_type": "code",
   "execution_count": 90,
   "metadata": {},
   "outputs": [
    {
     "name": "stdout",
     "output_type": "stream",
     "text": [
      "Testing Accuracy: 0.7752 ; Training Accuracy: 0.7769 ; Roc_Auc: 0.7531, ELA: 0.2323\n"
     ]
    }
   ],
   "source": [
    "#Application\n",
    "etapes = [('RobustScaling',  RobustScaler()), ('modele',logregMOM_binary(K=int(y_dirty.shape[0]*0.2)+17,epoch=500))]\n",
    "pipeline = Pipeline(steps=etapes)\n",
    "cv_logreg_mom_y_scaled = cross_validate(pipeline,X_dirty, LabelEncoder().fit_transform(y_dirty), scoring={'accuracy':make_scorer(accuracy_score),\n",
    "                                                       'specificity': make_scorer(recall_score,pos_label=4,average='weighted'),\n",
    "                                                       'roc_auc':make_scorer(roc_auc_score) }, \n",
    "                             cv=cv, n_jobs=-1,return_estimator=True, return_train_score=True)\n",
    "\n",
    "print('Testing Accuracy: %.4f ; Training Accuracy: %.4f ; Roc_Auc: %.4f, ELA: %.4f' % (np.mean(cv_logreg_mom_y_scaled['test_accuracy']),\n",
    "                                                               np.mean(cv_logreg_mom_y_scaled['train_accuracy']),\n",
    "                                                               np.mean(cv_logreg_mom_y_scaled['test_roc_auc']),\n",
    "                                                               ELA(cv_logreg_mom_y_scaled)))"
   ]
  },
  {
   "cell_type": "markdown",
   "metadata": {},
   "source": [
    "##  Huber "
   ]
  },
  {
   "cell_type": "code",
   "execution_count": 212,
   "metadata": {},
   "outputs": [
    {
     "name": "stdout",
     "output_type": "stream",
     "text": [
      "Testing Accuracy: 0.7787 ; Training Accuracy: 0.7729 ; Roc_Auc: 0.7516, ELA: 0.2286\n"
     ]
    }
   ],
   "source": [
    "#Application\n",
    "#TypeError: cleanlab requires zero-indexed labels (0,1,2,..,m-1), but in your case: np.unique(s) = [2 4] --> On utilise LabelEncoder\n",
    "\n",
    "etapes = [('RobustScaling',  RobustScaler()),\n",
    "          ('modele',SGDClassifier(loss=\"huber\",alpha=0.001,random_state=1,penalty='l1',class_weight='balanced',epsilon=0.3))]\n",
    "pipeline = Pipeline(steps=etapes)\n",
    "cv_logreg_huber_y_scaled = cross_validate(pipeline,X_dirty, y_dirty, scoring={\n",
    "                                                       'accuracy':make_scorer(accuracy_score),\n",
    "                                                       'specificity': make_scorer(recall_score,pos_label=4,average='weighted'),\n",
    "                                                       'roc_auc':make_scorer(roc_auc_score) }, \n",
    "                             cv=cv, n_jobs=-1,return_estimator=True, return_train_score=True)\n",
    "\n",
    "print('Testing Accuracy: %.4f ; Training Accuracy: %.4f ; Roc_Auc: %.4f, ELA: %.4f' % (np.mean(cv_logreg_huber_y_scaled['test_accuracy']),\n",
    "                                                               np.mean(cv_logreg_huber_y_scaled['train_accuracy']),\n",
    "                                                               np.mean(cv_logreg_huber_y_scaled['test_roc_auc']),\n",
    "                                                               ELA(cv_logreg_huber_y_scaled)))"
   ]
  },
  {
   "cell_type": "markdown",
   "metadata": {},
   "source": [
    "###  Confident Learning"
   ]
  },
  {
   "cell_type": "markdown",
   "metadata": {},
   "source": [
    "Le CL s'appuie sur les principes développés dans la littérature traitant des étiquettes bruyantes :\n",
    "\n",
    "><b>Pruning</b> pour rechercher les erreurs d'étiquetage, par exemple en suivant l'exemple de Natarajan et al. (2013) ; van Rooyen et al. (2015) ; Patrini et al. (2017), en utilisant un élagage doux via une repondération des pertes, pour éviter les pièges de convergence d'un réétiquetage itératif<br>\n",
    "><b>Counting</b> pour s'entraîner sur des données propres, en évitant la propagation d'erreurs dans les poids de modèle appris par la repondération de la perte (Natarajan et al., 2017) avec des probabilités prédites imparfaites, en généralisant les travaux fondateurs Forman (2005, 2008) ; Lipton et al. (2018).<br>\n",
    "><b>Ranking</b> pour classer les exemples à utiliser pendant la formation, pour permettre l'apprentissage avec des probabilités non normalisées ou des distances aux limites de décision du MVC, en s'appuyant sur les résultats de robustesse bien connus de PageRank (Page et al., 1997) et sur les idées d'apprentissage de programmes dans MentorNet (Jiang et al.,2018)."
   ]
  },
  {
   "cell_type": "raw",
   "metadata": {},
   "source": [
    "@misc{northcutt2019confidentlearning,\n",
    "   title={Confident Learning: Estimating Uncertainty in Dataset Labels},\n",
    "   author={Curtis G. Northcutt and Lu Jiang and Isaac L. Chuang},\n",
    "   year={2019},\n",
    "   eprint={1911.00068},\n",
    "   archivePrefix={arXiv},\n",
    "   primaryClass={stat.ML}\n",
    "}\n",
    "\n",
    "@inproceedings{northcutt2017rankpruning,\n",
    " author={Northcutt, Curtis G. and Wu, Tailin and Chuang, Isaac L.},\n",
    " title={Learning with Confident Examples: Rank Pruning for Robust Classification with Noisy Labels},\n",
    " booktitle = {Proceedings of the Thirty-Third Conference on Uncertainty in Artificial Intelligence},\n",
    " series = {UAI'17},\n",
    " year = {2017},\n",
    " location = {Sydney, Australia},\n",
    " numpages = {10},\n",
    " url = {http://auai.org/uai2017/proceedings/papers/35.pdf},\n",
    " publisher = {AUAI Press},\n",
    "}"
   ]
  },
  {
   "cell_type": "code",
   "execution_count": null,
   "metadata": {},
   "outputs": [],
   "source": [
    "# Application avec Regression logistique comme estimateur de base"
   ]
  },
  {
   "cell_type": "code",
   "execution_count": 119,
   "metadata": {},
   "outputs": [
    {
     "name": "stdout",
     "output_type": "stream",
     "text": [
      "Testing Accuracy: 0.7858 ; Roc_Auc: 0.7633, ELA: 0.1881\n"
     ]
    }
   ],
   "source": [
    "#Application avec Pruning par ratio de bruit -->  works by removing examples with\n",
    "        #*high probability* of being mislabeled for every non-diagonal in the `prune_counts_matrix`\n",
    "    \n",
    "conf = LearningWithNoisyLabels(clf=LogisticRegression(C=0.1),cv_n_folds=10,seed=1).fit(X_dirty,LabelEncoder().fit_transform(y_dirty))\n",
    "conf_test_accu=conf.score(X_dirty,LabelEncoder().fit_transform(y_dirty)) # Score Accuracy du Test\n",
    "conf_roc_auc=roc_auc_score(LabelEncoder().fit_transform(y_dirty),conf.predict(X_dirty)) # Score roc_auc\n",
    "conf_ela=1-conf_test_accu/np.mean(cv_clean_y['test_accuracy']) # Score ELA\n",
    "\n",
    "print('Testing Accuracy: %.4f ; Roc_Auc: %.4f, ELA: %.4f' % (conf_test_accu,\n",
    "                                                               conf_roc_auc,\n",
    "                                                               conf_ela))"
   ]
  },
  {
   "cell_type": "code",
   "execution_count": 120,
   "metadata": {},
   "outputs": [
    {
     "name": "stdout",
     "output_type": "stream",
     "text": [
      "Testing Accuracy: 0.7858 ; Roc_Auc: 0.7633, ELA: 0.1881\n"
     ]
    }
   ],
   "source": [
    "#Application avec Pruning par classe --> works by removing the examples with *smallest\n",
    "       # probability* of belonging to their given class label for every class\n",
    "conf_c = LearningWithNoisyLabels(clf=LogisticRegression(C=0.1),cv_n_folds=10,seed=1,prune_method='prune_by_class').fit(X_dirty,LabelEncoder().fit_transform(y_dirty))\n",
    "conf_c_test_accu=conf_c.score(X_dirty,LabelEncoder().fit_transform(y_dirty))\n",
    "conf_c_roc_auc=roc_auc_score(LabelEncoder().fit_transform(y_dirty),conf_c.predict(X_dirty))\n",
    "conf_c_ela=1-conf_c_test_accu/np.mean(cv_clean_y['test_accuracy'])\n",
    "\n",
    "print('Testing Accuracy: %.4f ; Roc_Auc: %.4f, ELA: %.4f' % (conf_c_test_accu,\n",
    "                                                               conf_c_roc_auc,\n",
    "                                                               conf_c_ela))"
   ]
  },
  {
   "cell_type": "code",
   "execution_count": null,
   "metadata": {},
   "outputs": [],
   "source": [
    "# application avec RF comme estimateur de base"
   ]
  },
  {
   "cell_type": "code",
   "execution_count": 84,
   "metadata": {},
   "outputs": [
    {
     "name": "stdout",
     "output_type": "stream",
     "text": [
      "Testing Accuracy: 0.7994 ; Roc_Auc: 0.7826, ELA: 0.1741\n"
     ]
    }
   ],
   "source": [
    "conf_rf = LearningWithNoisyLabels(clf=RandomForestClassifier(),cv_n_folds=10,seed=1).fit(X_dirty,LabelEncoder().fit_transform(y_dirty))\n",
    "conf_rf_test_accu=conf_rf.score(X_dirty,LabelEncoder().fit_transform(y_dirty))\n",
    "conf_rf_roc_auc=roc_auc_score(LabelEncoder().fit_transform(y_dirty),conf_rf.predict(X_dirty))\n",
    "conf_rf_ela=1-conf_rf_test_accu/np.mean(cv_clean_y['test_accuracy'])\n",
    "\n",
    "print('Testing Accuracy: %.4f ; Roc_Auc: %.4f, ELA: %.4f' % (conf_rf_test_accu,\n",
    "                                                               conf_rf_roc_auc,\n",
    "                                                               conf_rf_ela))"
   ]
  },
  {
   "cell_type": "markdown",
   "metadata": {},
   "source": [
    "### RobustLR"
   ]
  },
  {
   "cell_type": "markdown",
   "metadata": {},
   "source": [
    "Modifies the logistic loss using class dependent (estimated) noise rates for robustness. This implementation is for binary classification tasks only."
   ]
  },
  {
   "cell_type": "raw",
   "metadata": {},
   "source": [
    "@inproceedings{NIPS2013_3871bd64,\n",
    " author = {Natarajan, Nagarajan and Dhillon, Inderjit S and Ravikumar, Pradeep K and Tewari, Ambuj},\n",
    " booktitle = {Advances in Neural Information Processing Systems},\n",
    " editor = {C. J. C. Burges and L. Bottou and M. Welling and Z. Ghahramani and K. Q. Weinberger},\n",
    " pages = {1196--1204},\n",
    " publisher = {Curran Associates, Inc.},\n",
    " title = {Learning with Noisy Labels},\n",
    " url = {https://proceedings.neurips.cc/paper/2013/file/3871bd64012152bfb53fdf04b401193f-Paper.pdf},\n",
    " volume = {26},\n",
    " year = {2013}\n",
    "}"
   ]
  },
  {
   "cell_type": "code",
   "execution_count": 160,
   "metadata": {},
   "outputs": [
    {
     "name": "stdout",
     "output_type": "stream",
     "text": [
      "Testing Accuracy: 0.7777 ; Training Accuracy: 0.7833 ; Roc_Auc: 0.7608, ELA: 0.2296\n"
     ]
    }
   ],
   "source": [
    "#Application\n",
    "#On utilise LabelEncoder\n",
    "\n",
    "etapes = [('StandardScaling',  StandardScaler()),\n",
    "    ('modele',RobustLR(NP=0,PN=0.2 ,random_state=1 ))]\n",
    "pipeline = Pipeline(steps=etapes)\n",
    "cv_logreg_rob_y_scaled = cross_validate(pipeline,X_dirty,LabelEncoder().fit_transform(y_dirty), scoring={\n",
    "                                                       'accuracy':make_scorer(accuracy_score),\n",
    "                                                       'specificity': make_scorer(recall_score,pos_label=4,average='weighted'),\n",
    "                                                       'roc_auc':make_scorer(roc_auc_score) }, \n",
    "                             cv=cv, n_jobs=-1,return_estimator=True, return_train_score=True)\n",
    "\n",
    "print('Testing Accuracy: %.4f ; Training Accuracy: %.4f ; Roc_Auc: %.4f, ELA: %.4f' % (np.mean(cv_logreg_rob_y_scaled['test_accuracy']),\n",
    "                                                               np.mean(cv_logreg_rob_y_scaled['train_accuracy']),\n",
    "                                                               np.mean(cv_logreg_rob_y_scaled['test_roc_auc']),\n",
    "                                                               ELA(cv_logreg_rob_y_scaled)))"
   ]
  },
  {
   "cell_type": "markdown",
   "metadata": {},
   "source": [
    "### RandomForest"
   ]
  },
  {
   "cell_type": "code",
   "execution_count": 272,
   "metadata": {},
   "outputs": [
    {
     "name": "stdout",
     "output_type": "stream",
     "text": [
      "Testing Accuracy: 0.7863 ; Training Accuracy: 0.7979 ; Roc_Auc: 0.7689, ELA: 0.2208\n"
     ]
    }
   ],
   "source": [
    "#Application\n",
    "etapes = [ ('modele',RandomForestClassifier(n_estimators=301,\n",
    "                                             random_state=1,\n",
    "                                   class_weight='balanced'\n",
    "                                   ,max_features=3\n",
    "                                   ,max_depth=5\n",
    "                                   ,min_samples_leaf=2))]\n",
    "pipeline = Pipeline(steps=etapes)\n",
    "cv_r = cross_validate(pipeline,X_dirty, LabelEncoder().fit_transform(y_dirty), scoring={'accuracy':make_scorer(accuracy_score),\n",
    "                                                       'specificity': make_scorer(recall_score,pos_label=4,average='weighted'),\n",
    "                                                       'roc_auc':make_scorer(roc_auc_score) }, \n",
    "                             cv=cv, n_jobs=-1,return_estimator=True, return_train_score=True)\n",
    "\n",
    "print('Testing Accuracy: %.4f ; Training Accuracy: %.4f ; Roc_Auc: %.4f, ELA: %.4f' % (np.mean(cv_r['test_accuracy']),\n",
    "                                                               np.mean(cv_r['train_accuracy']),\n",
    "                                                               np.mean(cv_r['test_roc_auc']),\n",
    "                                                               ELA(cv_r)))"
   ]
  },
  {
   "cell_type": "markdown",
   "metadata": {},
   "source": [
    "La RF hérite son insensibilité aux valeurs aberrantes du cloisonnement récursif et de l'ajustement des modèles localement(les leafs)."
   ]
  },
  {
   "cell_type": "markdown",
   "metadata": {},
   "source": [
    "### RobustRF"
   ]
  },
  {
   "cell_type": "markdown",
   "metadata": {},
   "source": [
    "Uses a random forest to to compute pairwise similarity/distance, and then a simple K Nearest Neighbor that works on that similarity matrix. For a pair of samples, the similarity value is proportional to how frequently they belong to the same leaf"
   ]
  },
  {
   "cell_type": "raw",
   "metadata": {},
   "source": [
    "@InProceedings{pmlr-v70-li17e, \n",
    "title = {Forest-type Regression with General Losses and Robust Forest}, \n",
    "author = {Alexander Hanbo Li and Andrew Martin}, \n",
    "booktitle = {Proceedings of the 34th International Conference on Machine Learning}, \n",
    "pages = {2091--2100},\n",
    "year = {2017}, \n",
    "editor = {Doina Precup and Yee Whye Teh}, \n",
    "volume = {70}, \n",
    "series = {Proceedings of Machine Learning Research}, \n",
    "address = {International Convention Centre, Sydney, Australia}, \n",
    "month = {06--11 Aug}, \n",
    "publisher = {PMLR}, \n",
    "pdf = {http://proceedings.mlr.press/v70/li17e/li17e.pdf},\n",
    "url = {http://proceedings.mlr.press/v70/li17e.html}}"
   ]
  },
  {
   "cell_type": "code",
   "execution_count": 170,
   "metadata": {},
   "outputs": [
    {
     "name": "stdout",
     "output_type": "stream",
     "text": [
      "Testing Accuracy: 0.7853 ; Training Accuracy: 0.7902 ; Roc_Auc: 0.7686, ELA: 0.2219\n"
     ]
    }
   ],
   "source": [
    "#Application\n",
    "#On utilise LabelEncoder\n",
    "#K=51\n",
    "etapes = [\n",
    "    ('modele',RobustForest(n_estimators=301,max_leaf_nodes=5,random_state=1,K=51,method='weighted'))]\n",
    "pipeline = Pipeline(steps=etapes)\n",
    "cv_rf_rob_y_scaled = cross_validate(pipeline,X_dirty,LabelEncoder().fit_transform(y_dirty), scoring={\n",
    "                                                       'accuracy':make_scorer(accuracy_score),\n",
    "                                                       'specificity': make_scorer(recall_score,pos_label=4,average='weighted'),\n",
    "                                                       'roc_auc':make_scorer(roc_auc_score) }, \n",
    "                             cv=cv, n_jobs=-1,return_estimator=True, return_train_score=True)\n",
    "\n",
    "print('Testing Accuracy: %.4f ; Training Accuracy: %.4f ; Roc_Auc: %.4f, ELA: %.4f' % (np.mean(cv_rf_rob_y_scaled['test_accuracy']),\n",
    "                                                               np.mean(cv_rf_rob_y_scaled['train_accuracy']),\n",
    "                                                               np.mean(cv_rf_rob_y_scaled['test_roc_auc']),\n",
    "                                                               ELA(cv_rf_rob_y_scaled)))"
   ]
  },
  {
   "cell_type": "markdown",
   "metadata": {},
   "source": [
    "### Extremely Randomized Trees"
   ]
  },
  {
   "cell_type": "markdown",
   "metadata": {},
   "source": [
    "This class implements a meta estimator that fits a number of randomized decision trees (a.k.a. extra-trees) on various sub-samples of the dataset and uses averaging to improve the predictive accuracy and control over-fitting"
   ]
  },
  {
   "cell_type": "raw",
   "metadata": {},
   "source": [
    "@article{Geurts2006ExtremelyRT,\n",
    "  title={Extremely randomized trees},\n",
    "  author={P. Geurts and D. Ernst and L. Wehenkel},\n",
    "  journal={Machine Learning},\n",
    "  year={2006},\n",
    "  volume={63},\n",
    "  pages={3-42}\n",
    "}"
   ]
  },
  {
   "cell_type": "code",
   "execution_count": 274,
   "metadata": {},
   "outputs": [
    {
     "name": "stdout",
     "output_type": "stream",
     "text": [
      "Testing Accuracy: 0.7883 ; Training Accuracy: 0.7949 ; Roc_Auc: 0.7713, ELA: 0.2188\n"
     ]
    }
   ],
   "source": [
    "#J'ai manipulé les params des arbres pour réduire l'overfitting\n",
    "etapes = [\n",
    "    ('modele',ExtraTreesClassifier(n_estimators=301,random_state=1,\n",
    "                                   class_weight='balanced'\n",
    "                                   ,max_features=3\n",
    "                                   ,max_depth=5\n",
    "                                   ,min_samples_leaf=2))]\n",
    "pipeline = Pipeline(steps=etapes)\n",
    "cv_etc = cross_validate(pipeline,X_dirty,LabelEncoder().fit_transform(y_dirty), scoring={\n",
    "                                                       'accuracy':make_scorer(accuracy_score),\n",
    "                                                       'specificity': make_scorer(recall_score,pos_label=4,average='weighted'),\n",
    "                                                       'roc_auc':make_scorer(roc_auc_score) }, \n",
    "                             cv=cv, n_jobs=-1,return_estimator=True, return_train_score=True)\n",
    "\n",
    "print('Testing Accuracy: %.4f ; Training Accuracy: %.4f ; Roc_Auc: %.4f, ELA: %.4f' % (np.mean(cv_etc['test_accuracy']),\n",
    "                                                               np.mean(cv_etc['train_accuracy']),\n",
    "                                                               np.mean(cv_etc['test_roc_auc']),\n",
    "                                                               ELA(cv_etc)))"
   ]
  },
  {
   "cell_type": "markdown",
   "metadata": {},
   "source": [
    "### RANSAC"
   ]
  },
  {
   "cell_type": "markdown",
   "metadata": {},
   "source": [
    "L'algorithme divise les données complètes de l'échantillon d'entrée en un ensemble d'intrants, qui peuvent être sujets au bruit, et d'aberrations, qui sont par exemple causées par des mesures erronées ou des hypothèses non valables sur les données. Le modèle qui en résulte est alors estimé uniquement à partir des valeurs intrinsèques déterminées."
   ]
  },
  {
   "cell_type": "code",
   "execution_count": 174,
   "metadata": {},
   "outputs": [
    {
     "name": "stdout",
     "output_type": "stream",
     "text": [
      "Testing Accuracy: 0.7672 ; Training Accuracy: 0.7765 ; Roc_Auc: 0.7377, ELA: 0.2405\n"
     ]
    }
   ],
   "source": [
    "# Application avec Regression Logistique comme estimateur de base\n",
    "# les residual_threshold sont par defaut la mean deviation du set des labels qui est 0 ici, on le définit don manuellement\n",
    "etapes = [('StandardScaling',  StandardScaler()),\n",
    "    ('modele',RANSACRegressor(base_estimator=LogisticRegression(),random_state=1,residual_threshold=3))]\n",
    "pipeline = Pipeline(steps=etapes)\n",
    "cv_ransac = cross_validate(pipeline,X_dirty,y_dirty, scoring={\n",
    "                                                       'accuracy':make_scorer(accuracy_score),\n",
    "                                                       'specificity': make_scorer(recall_score,pos_label=4,average='weighted'),\n",
    "                                                       'roc_auc':make_scorer(roc_auc_score) }, \n",
    "                             cv=cv, n_jobs=-1,return_estimator=True, return_train_score=True)\n",
    "\n",
    "print('Testing Accuracy: %.4f ; Training Accuracy: %.4f ; Roc_Auc: %.4f, ELA: %.4f' % (np.mean(cv_ransac['test_accuracy']),\n",
    "                                                               np.mean(cv_ransac['train_accuracy']),\n",
    "                                                               np.mean(cv_ransac['test_roc_auc']),\n",
    "                                                               ELA(cv_ransac)))"
   ]
  },
  {
   "cell_type": "markdown",
   "metadata": {},
   "source": [
    "RANSAC n'a pas d'effet, ce qui est logique puisque le RANSAC n'essaie pas de tenir compte des valeurs aberrantes, il est conçu pour les cas où les points de données n'ont vraiment pas leur place, et non pas seulement pour ceux qui sont distribués de manière non normale. Le bruit ici n'est pas suffisament marqué."
   ]
  },
  {
   "cell_type": "markdown",
   "metadata": {},
   "source": [
    "### KNN"
   ]
  },
  {
   "cell_type": "code",
   "execution_count": 158,
   "metadata": {},
   "outputs": [
    {
     "name": "stdout",
     "output_type": "stream",
     "text": [
      "Testing Accuracy: 0.7777 ; Training Accuracy: 0.9326 ; Roc_Auc: 0.7560, ELA: 0.2297\n"
     ]
    }
   ],
   "source": [
    "etapes = [('StandardScaling',  StandardScaler()),\n",
    "    ('modele',KNeighborsClassifier(weights='distance',n_neighbors=17))]\n",
    "pipeline = Pipeline(steps=etapes)\n",
    "cv_knn = cross_validate(pipeline,X_dirty,y_dirty, scoring={\n",
    "                                                       'accuracy':make_scorer(accuracy_score),\n",
    "                                                       'specificity': make_scorer(recall_score,pos_label=4,average='weighted'),\n",
    "                                                       'roc_auc':make_scorer(roc_auc_score) }, \n",
    "                             cv=cv, n_jobs=-1,return_estimator=True, return_train_score=True)\n",
    "\n",
    "print('Testing Accuracy: %.4f ; Training Accuracy: %.4f ; Roc_Auc: %.4f, ELA: %.4f' % (np.mean(cv_knn['test_accuracy']),\n",
    "                                                               np.mean(cv_knn['train_accuracy']),\n",
    "                                                               np.mean(cv_knn['test_roc_auc']),\n",
    "                                                               ELA(cv_knn)))"
   ]
  },
  {
   "cell_type": "markdown",
   "metadata": {},
   "source": [
    "### SVC"
   ]
  },
  {
   "cell_type": "code",
   "execution_count": 180,
   "metadata": {},
   "outputs": [
    {
     "name": "stdout",
     "output_type": "stream",
     "text": [
      "Testing Accuracy: 0.7813 ; Training Accuracy: 0.7813 ; Roc_Auc: 0.7627, ELA: 0.2260\n"
     ]
    }
   ],
   "source": [
    "etapes = [('StandardScaling',  StandardScaler()),\n",
    "    ('modele',SVC(C=0.1,random_state=1))] # C petit pour pénalization plus forte sur les outliers\n",
    "pipeline = Pipeline(steps=etapes)\n",
    "cv_svc = cross_validate(pipeline,X_dirty,y_dirty, scoring={\n",
    "                                                       'accuracy':make_scorer(accuracy_score),\n",
    "                                                       'specificity': make_scorer(recall_score,pos_label=4,average='weighted'),\n",
    "                                                       'roc_auc':make_scorer(roc_auc_score) }, \n",
    "                             cv=cv, n_jobs=-1,return_estimator=True, return_train_score=True)\n",
    "\n",
    "print('Testing Accuracy: %.4f ; Training Accuracy: %.4f ; Roc_Auc: %.4f, ELA: %.4f' % (np.mean(cv_svc['test_accuracy']),\n",
    "                                                               np.mean(cv_svc['train_accuracy']),\n",
    "                                                               np.mean(cv_svc['test_roc_auc']),\n",
    "                                                               ELA(cv_svc)))"
   ]
  },
  {
   "cell_type": "markdown",
   "metadata": {},
   "source": [
    "### Theilsen"
   ]
  },
  {
   "cell_type": "markdown",
   "metadata": {},
   "source": [
    "Pour données numériques"
   ]
  },
  {
   "cell_type": "markdown",
   "metadata": {},
   "source": [
    "# Détection d'Outliers - Apprentissage non supervisé"
   ]
  },
  {
   "attachments": {
    "image.png": {
     "image/png": "[encoded data removed]"
    }
   },
   "cell_type": "markdown",
   "metadata": {},
   "source": [
    "<b> ==> On utilise le score F1<b>\n",
    "    ![image.png](attachment:image.png)"
   ]
  },
  {
   "cell_type": "markdown",
   "metadata": {},
   "source": [
    "<b> Un score F1 plus grand implique une précision ET recall plus grands<b>"
   ]
  },
  {
   "cell_type": "code",
   "execution_count": 7,
   "metadata": {},
   "outputs": [],
   "source": [
    "# Bruit uniforme à 30%\n",
    "X_dirty_2,y_dirty_2=UniformNoise(noise_level=0.3 # Bruit 30%\n",
    "                             ,random_state=1).fit_transform(X_clean.copy(),y_clean.copy())"
   ]
  },
  {
   "cell_type": "markdown",
   "metadata": {},
   "source": [
    "### Division Train/Test "
   ]
  },
  {
   "cell_type": "code",
   "execution_count": 251,
   "metadata": {},
   "outputs": [],
   "source": [
    "#Division en Train & Test stratifiée, on n'utilise pas la cv sur du \"unsupervised learning\"\n",
    "# Dirty\n",
    "X_train_d, X_test_d, y_train_d, y_test_d = train_test_split(X_dirty_2, y_dirty_2,stratify=y_dirty_2, test_size=0.5, random_state=1)\n"
   ]
  },
  {
   "cell_type": "code",
   "execution_count": 10,
   "metadata": {},
   "outputs": [],
   "source": [
    "# Clean\n",
    "X_train_c, X_test_c, y_train_c, y_test_c = train_test_split(X_clean, y_clean,stratify=y_clean, test_size=0.5, random_state=1)\n"
   ]
  },
  {
   "cell_type": "markdown",
   "metadata": {},
   "source": [
    "## Modèles basés sur les Ensembles & Combination "
   ]
  },
  {
   "cell_type": "markdown",
   "metadata": {},
   "source": [
    "### Isolation Forest"
   ]
  },
  {
   "cell_type": "markdown",
   "metadata": {},
   "source": [
    "Renvoie le score d'anomalie de chaque échantillon en utilisant l'algorithme IsolationForest\n",
    "\n",
    "La forêt d'isolement \"isole\" les observations en sélectionnant au hasard une caractéristique, puis en choisissant au hasard une valeur fractionnée entre les valeurs maximale et minimale de la caractéristique sélectionnée.\n",
    "\n",
    "Comme le partitionnement récursif peut être représenté par une structure arborescente, le nombre de fractionnements requis pour isoler un échantillon est équivalent à la longueur du chemin du nœud racine au nœud terminal.\n",
    "\n",
    "Cette longueur de chemin, dont la moyenne est calculée sur une forêt de tels arbres aléatoires, est une mesure de normalité et notre fonction de décision.\n",
    "\n",
    "Le partitionnement aléatoire produit des chemins sensiblement plus courts pour les anomalies. Par conséquent, lorsqu'une forêt d'arbres aléatoires produit collectivement des chemins plus courts pour des échantillons particuliers, il est très probable qu'il s'agisse d'anomalies.\n",
    "\n"
   ]
  },
  {
   "cell_type": "code",
   "execution_count": 11,
   "metadata": {},
   "outputs": [
    {
     "name": "stdout",
     "output_type": "stream",
     "text": [
      "F1 Score: 0.547\n"
     ]
    }
   ],
   "source": [
    "isof = IsolationForest(contamination=0.3)\n",
    "isof.fit(X_train_d)\n",
    "\n",
    "# On détecte les anomalies sur le test set\n",
    "yhat = isof.predict(X_test_d)\n",
    "# On code les inliers 1, outliers -1\n",
    "y_test_bi=LabelEncoder().fit_transform(y_test_c)\n",
    "y_test_bi[y_test_bi == 1] = -1\n",
    "y_test_bi[y_test_bi == 0] = 1\n",
    "# On score avec F1\n",
    "score = f1_score(y_test_bi, yhat,average=\"weighted\")\n",
    "print('F1 Score: %.3f' % score)"
   ]
  },
  {
   "cell_type": "markdown",
   "metadata": {},
   "source": [
    "### Extended Isolation Forest"
   ]
  },
  {
   "cell_type": "raw",
   "metadata": {},
   "source": [
    "@ARTICLE{8888179,\n",
    "author={S. {Hariri} and M. {Carrasco Kind} and R. J. {Brunner}},\n",
    "journal={IEEE Transactions on Knowledge and Data Engineering},\n",
    "title={Extended Isolation Forest},\n",
    "year={2019},\n",
    "volume={},\n",
    "number={},\n",
    "pages={1-1},\n",
    "keywords={Forestry;Vegetation;Distributed databases;Anomaly detection;Standards;Clustering algorithms;Heating systems;Anomaly Detection;Isolation Forest},\n",
    "doi={10.1109/TKDE.2019.2947676},\n",
    "ISSN={},\n",
    "month={},}"
   ]
  },
  {
   "cell_type": "markdown",
   "metadata": {},
   "source": [
    "<b>J'ai utilisé une regression logistique pour définir une frontière de décision entre les probabilités définies par l'EIF<b>"
   ]
  },
  {
   "cell_type": "code",
   "execution_count": 261,
   "metadata": {},
   "outputs": [],
   "source": [
    "X_train_ex,X_train_lr=X_train_d[:int(len(X_train_d)*0.5)],X_train_d[int(len(X_train_d)*0.5):]\n",
    "X_test_ex,X_test_lr=X_test_d[:int(len(X_test_d)*0.5)],X_test_d[int(len(X_test_d)*0.5):]\n",
    "ex_isof=eif.iForest(X_train_ex, ntrees=200,sample_size=165, ExtensionLevel=2)\n",
    "X_train_l=ex_isof.compute_paths(X_in=X_train_lr)\n",
    "X_test_l=ex_isof.compute_paths(X_in=X_test_d)\n"
   ]
  },
  {
   "cell_type": "code",
   "execution_count": 263,
   "metadata": {},
   "outputs": [
    {
     "name": "stdout",
     "output_type": "stream",
     "text": [
      "F1 Score: 0.567\n"
     ]
    }
   ],
   "source": [
    "lr=LogisticRegression(C=0.6,random_state=1)\n",
    "lr.fit(X_train_l.reshape(-1,1),y_train_d[int(len(X_train_d)*0.5):].reshape(-1,1))\n",
    "yhat=lr.predict(X_test_l.reshape(-1,1))\n",
    "\n",
    "# On score avec F1\n",
    "score = f1_score(y_test_c, yhat,average=\"weighted\")\n",
    "print('F1 Score: %.3f' % score)"
   ]
  },
  {
   "cell_type": "markdown",
   "metadata": {},
   "source": [
    "### Feature Bagging"
   ]
  },
  {
   "cell_type": "code",
   "execution_count": 278,
   "metadata": {},
   "outputs": [
    {
     "name": "stdout",
     "output_type": "stream",
     "text": [
      "F1 Score: 0.246\n"
     ]
    }
   ],
   "source": [
    "fb=FeatureBagging(LOF(n_neighbors=57, contamination=0.3),\n",
    "                       contamination=0.3,\n",
    "                       random_state=1)\n",
    "fb.fit(X_train_d)\n",
    "\n",
    "# On détecte les anomalies sur le test set\n",
    "yhat = fb.predict(X_test_d)\n",
    "\n",
    "# On score avec F1\n",
    "score = f1_score(y_test_bi, yhat,average=\"weighted\")\n",
    "print('F1 Score: %.3f' % score)"
   ]
  },
  {
   "cell_type": "markdown",
   "metadata": {},
   "source": [
    "### LSCP-Locally Selective Combination "
   ]
  },
  {
   "cell_type": "code",
   "execution_count": 283,
   "metadata": {},
   "outputs": [
    {
     "name": "stdout",
     "output_type": "stream",
     "text": [
      "F1 Score: 0.266\n"
     ]
    }
   ],
   "source": [
    "detector_list = [LOF(n_neighbors=5), LOF(n_neighbors=10), LOF(n_neighbors=15),\n",
    "                 LOF(n_neighbors=20), LOF(n_neighbors=25), LOF(n_neighbors=30),\n",
    "                 LOF(n_neighbors=35), LOF(n_neighbors=40), LOF(n_neighbors=45),\n",
    "                 LOF(n_neighbors=50),LOF(n_neighbors=57),LOF(n_neighbors=67),LOF(n_neighbors=75)]\n",
    "\n",
    "lscp=LSCP(detector_list, contamination=0.3,random_state=1)\n",
    "lscp.fit(X_train_d)\n",
    "\n",
    "# On détecte les anomalies sur le test set\n",
    "yhat = lscp.predict(X_test_d)\n",
    "\n",
    "# On score avec F1\n",
    "score = f1_score(y_test_bi, yhat,average=\"weighted\")\n",
    "print('F1 Score: %.3f' % score)"
   ]
  },
  {
   "cell_type": "code",
   "execution_count": 425,
   "metadata": {},
   "outputs": [
    {
     "name": "stdout",
     "output_type": "stream",
     "text": [
      "F1 Score: 0.345\n"
     ]
    }
   ],
   "source": [
    "detector_list = [LOF(n_neighbors=57),OCSVM(contamination=0.3),]\n",
    "\n",
    "lscp=LSCP(detector_list, contamination=0.3,random_state=1)\n",
    "lscp.fit(X_train_d)\n",
    "\n",
    "# On détecte les anomalies sur le test set\n",
    "yhat = lscp.predict(X_test_d)\n",
    "\n",
    "# On score avec F1\n",
    "score = f1_score(y_test_bi, yhat,average=\"weighted\")\n",
    "print('F1 Score: %.3f' % score)"
   ]
  },
  {
   "cell_type": "markdown",
   "metadata": {},
   "source": [
    "## Modèles Linéaires"
   ]
  },
  {
   "cell_type": "markdown",
   "metadata": {},
   "source": [
    "### PCA- Principal Component Analysis"
   ]
  },
  {
   "cell_type": "markdown",
   "metadata": {},
   "source": [
    "PCA utilise la somme des distances projetées pondérées par rapport à l'hyperplan du vecteur propre comme scores des valeurs aberrantes)"
   ]
  },
  {
   "cell_type": "code",
   "execution_count": 93,
   "metadata": {},
   "outputs": [
    {
     "name": "stdout",
     "output_type": "stream",
     "text": [
      "F1 Score: 0.254\n"
     ]
    }
   ],
   "source": [
    "pca = PCA(contamination=0.3,random_state=1)\n",
    "pca.fit(X_train_d)\n",
    "\n",
    "# On détecte les anomalies sur le test set\n",
    "yhat = pca.predict(X_test_d)\n",
    "\n",
    "# On score avec F1\n",
    "score = f1_score(y_test_bi, yhat,average=\"weighted\")\n",
    "print('F1 Score: %.3f' % score)"
   ]
  },
  {
   "cell_type": "markdown",
   "metadata": {},
   "source": [
    "### MCD-Minimum Covariance Determinant"
   ]
  },
  {
   "cell_type": "markdown",
   "metadata": {},
   "source": [
    "Utilise la distance de Mahalanobis(robustesse à la covariance des features) pour le scoring des outliers"
   ]
  },
  {
   "cell_type": "code",
   "execution_count": 98,
   "metadata": {},
   "outputs": [
    {
     "name": "stdout",
     "output_type": "stream",
     "text": [
      "F1 Score: 0.258\n"
     ]
    }
   ],
   "source": [
    "mcd = MCD(contamination=0.3,random_state=1)\n",
    "mcd.fit(X_train_d)\n",
    "\n",
    "# On détecte les anomalies sur le test set\n",
    "yhat = mcd.predict(X_test_d)\n",
    "\n",
    "# On score avec F1\n",
    "score = f1_score(y_test_bi, yhat,average=\"weighted\")\n",
    "print('F1 Score: %.3f' % score)"
   ]
  },
  {
   "cell_type": "markdown",
   "metadata": {},
   "source": [
    "### OCSVM- One-Class Support Vector Machines"
   ]
  },
  {
   "cell_type": "code",
   "execution_count": 101,
   "metadata": {},
   "outputs": [
    {
     "name": "stdout",
     "output_type": "stream",
     "text": [
      "F1 Score: 0.324\n"
     ]
    }
   ],
   "source": [
    "ocsvm = OCSVM(contamination=0.3)\n",
    "ocsvm.fit(X_train_d)\n",
    "\n",
    "# On détecte les anomalies sur le test set\n",
    "yhat = ocsvm.predict(X_test_d)\n",
    "\n",
    "# On score avec F1\n",
    "score = f1_score(y_test_bi, yhat,average=\"weighted\")\n",
    "print('F1 Score: %.3f' % score)"
   ]
  },
  {
   "cell_type": "markdown",
   "metadata": {},
   "source": [
    "### LMDD-Linear Model Deviation-base outlier detection "
   ]
  },
  {
   "cell_type": "markdown",
   "metadata": {},
   "source": [
    "’aad’: Average Absolute Deviation\n",
    "\n",
    "’var’: Variance\n",
    "\n",
    "’iqr’: Interquartile Range"
   ]
  },
  {
   "cell_type": "code",
   "execution_count": 290,
   "metadata": {},
   "outputs": [
    {
     "name": "stdout",
     "output_type": "stream",
     "text": [
      "F1 Score: 0.196\n"
     ]
    }
   ],
   "source": [
    "lmdd= LMDD(contamination=0.3, n_iter=50, dis_measure='aad', random_state=1)\n",
    "lmdd.fit(X_train_d)\n",
    "\n",
    "# On détecte les anomalies sur le test set\n",
    "yhat = lmdd.predict(X_test_d)\n",
    "\n",
    "# On score avec F1\n",
    "score = f1_score(y_test_bi, yhat,average=\"weighted\")\n",
    "print('F1 Score: %.3f' % score)"
   ]
  },
  {
   "cell_type": "code",
   "execution_count": 291,
   "metadata": {},
   "outputs": [
    {
     "name": "stdout",
     "output_type": "stream",
     "text": [
      "F1 Score: 0.199\n"
     ]
    }
   ],
   "source": [
    "lmdd= LMDD(contamination=0.3, n_iter=50, dis_measure='var', random_state=1)\n",
    "lmdd.fit(X_train_d)\n",
    "\n",
    "# On détecte les anomalies sur le test set\n",
    "yhat = lmdd.predict(X_test_d)\n",
    "\n",
    "# On score avec F1\n",
    "score = f1_score(y_test_bi, yhat,average=\"weighted\")\n",
    "print('F1 Score: %.3f' % score)"
   ]
  },
  {
   "cell_type": "code",
   "execution_count": 292,
   "metadata": {},
   "outputs": [
    {
     "name": "stdout",
     "output_type": "stream",
     "text": [
      "F1 Score: 0.080\n"
     ]
    }
   ],
   "source": [
    "lmdd= LMDD(contamination=0.3, n_iter=50, dis_measure='iqr', random_state=1)\n",
    "lmdd.fit(X_train_d)\n",
    "\n",
    "# On détecte les anomalies sur le test set\n",
    "yhat = lmdd.predict(X_test_d)\n",
    "\n",
    "# On score avec F1\n",
    "score = f1_score(y_test_bi, yhat,average=\"weighted\")\n",
    "print('F1 Score: %.3f' % score)"
   ]
  },
  {
   "cell_type": "markdown",
   "metadata": {},
   "source": [
    "## Modèles basés sur la proximité"
   ]
  },
  {
   "cell_type": "markdown",
   "metadata": {},
   "source": [
    "### LOF-Local Outlier Factor"
   ]
  },
  {
   "cell_type": "code",
   "execution_count": 179,
   "metadata": {},
   "outputs": [
    {
     "name": "stdout",
     "output_type": "stream",
     "text": [
      "F1 Score: 0.242\n"
     ]
    }
   ],
   "source": [
    "lof = LOF(n_neighbors=57, contamination=0.3)\n",
    "lof.fit(X_train_d)\n",
    "\n",
    "# On détecte les anomalies sur le test set\n",
    "yhat = lof.predict(X_test_d)\n",
    "\n",
    "# On score avec F1\n",
    "score = f1_score(y_test_bi, yhat,average=\"weighted\")\n",
    "print('F1 Score: %.3f' % score)"
   ]
  },
  {
   "cell_type": "markdown",
   "metadata": {},
   "source": [
    "### CBLOF-Clustering-Based Local Outlier Factor"
   ]
  },
  {
   "cell_type": "code",
   "execution_count": 201,
   "metadata": {},
   "outputs": [
    {
     "name": "stdout",
     "output_type": "stream",
     "text": [
      "F1 Score: 0.307\n"
     ]
    }
   ],
   "source": [
    "cblof = CBLOF(random_state=1,check_estimator=False, contamination=0.3)\n",
    "cblof.fit(X_train_d)\n",
    "\n",
    "# On détecte les anomalies sur le test set\n",
    "yhat = cblof.predict(X_test_d)\n",
    "\n",
    "# On score avec F1\n",
    "score = f1_score(y_test_bi, yhat,average=\"weighted\")\n",
    "print('F1 Score: %.3f' % score)"
   ]
  },
  {
   "cell_type": "markdown",
   "metadata": {},
   "source": [
    "### Median kNN"
   ]
  },
  {
   "cell_type": "code",
   "execution_count": 285,
   "metadata": {},
   "outputs": [
    {
     "name": "stdout",
     "output_type": "stream",
     "text": [
      "F1 Score: 0.293\n"
     ]
    }
   ],
   "source": [
    "mknn = KNN(method='median', contamination=0.3)\n",
    "mknn.fit(X_train_d)\n",
    "\n",
    "# On détecte les anomalies sur le test set\n",
    "yhat = mknn.predict(X_test_d)\n",
    "\n",
    "# On score avec F1\n",
    "score = f1_score(y_test_bi, yhat,average=\"weighted\")\n",
    "print('F1 Score: %.3f' % score)"
   ]
  },
  {
   "cell_type": "markdown",
   "metadata": {},
   "source": [
    "### Average kNN"
   ]
  },
  {
   "cell_type": "code",
   "execution_count": 287,
   "metadata": {},
   "outputs": [
    {
     "name": "stdout",
     "output_type": "stream",
     "text": [
      "F1 Score: 0.282\n"
     ]
    }
   ],
   "source": [
    "aknn = KNN(method='mean', contamination=0.3)\n",
    "aknn.fit(X_train_d)\n",
    "\n",
    "# On détecte les anomalies sur le test set\n",
    "yhat = aknn.predict(X_test_d)\n",
    "\n",
    "# On score avec F1\n",
    "score = f1_score(y_test_bi, yhat,average=\"weighted\")\n",
    "print('F1 Score: %.3f' % score)"
   ]
  },
  {
   "cell_type": "markdown",
   "metadata": {},
   "source": [
    "### HBOS-Histogram-based Outlier Score"
   ]
  },
  {
   "cell_type": "code",
   "execution_count": 187,
   "metadata": {},
   "outputs": [
    {
     "name": "stdout",
     "output_type": "stream",
     "text": [
      "F1 Score: 0.273\n"
     ]
    }
   ],
   "source": [
    "hbos = HBOS(contamination=0.3)\n",
    "hbos.fit(X_train_d)\n",
    "\n",
    "# On détecte les anomalies sur le test set\n",
    "yhat = hbos.predict(X_test_d)\n",
    "\n",
    "# On score avec F1\n",
    "score = f1_score(y_test_bi, yhat,average=\"weighted\")\n",
    "print('F1 Score: %.3f' % score)"
   ]
  },
  {
   "cell_type": "markdown",
   "metadata": {},
   "source": [
    "### SOD-Subspace Outlier Detection "
   ]
  },
  {
   "cell_type": "code",
   "execution_count": 417,
   "metadata": {},
   "outputs": [
    {
     "name": "stdout",
     "output_type": "stream",
     "text": [
      "F1 Score: 0.292\n"
     ]
    }
   ],
   "source": [
    "sod = SOD(contamination=0.3,n_neighbors=57, ref_set=3, alpha=0.8)\n",
    "sod.fit(X_train_d)\n",
    "\n",
    "# On détecte les anomalies sur le test set\n",
    "yhat = sod.predict(X_test_d)\n",
    "\n",
    "# On score avec F1\n",
    "score = f1_score(y_test_bi, yhat,average=\"weighted\")\n",
    "print('F1 Score: %.3f' % score)"
   ]
  },
  {
   "cell_type": "markdown",
   "metadata": {},
   "source": [
    "## Modèles probabilistes"
   ]
  },
  {
   "cell_type": "markdown",
   "metadata": {},
   "source": [
    "### ABOD: Angle-Based Outlier Detection"
   ]
  },
  {
   "cell_type": "code",
   "execution_count": 373,
   "metadata": {},
   "outputs": [],
   "source": [
    "X=X_train_ex.copy()\n",
    "X = X.astype('float64') # Problème avec dtype \n",
    "abod = ABOD(contamination=0.3)\n",
    "abod.fit(X)\n",
    "\n",
    "Xt=X_test_d.copy().astype('float64')\n",
    "Xc=X_train_lr.copy().astype('float64')\n",
    "X_train_ll=abod.decision_function(X_train_lr)\n",
    "X_test_ll=abod.decision_function(X_test_d)\n"
   ]
  },
  {
   "cell_type": "code",
   "execution_count": 374,
   "metadata": {},
   "outputs": [
    {
     "name": "stdout",
     "output_type": "stream",
     "text": [
      "F1 Score: 0.517\n"
     ]
    }
   ],
   "source": [
    "lr=LogisticRegression(C=0.6,random_state=1)\n",
    "X2=SimpleImputer(missing_values=np.nan,strategy=\"median\").fit_transform(X_train_ll.reshape(-1, 1))\n",
    "X3=SimpleImputer(missing_values=np.nan,strategy=\"median\").fit_transform(X_test_ll.reshape(-1, 1))\n",
    "lr.fit(X2.reshape(-1,1),y_train_d[int(len(X_train_d)*0.5):].reshape(-1,1))\n",
    "yhat=lr.predict(X3.reshape(-1,1))\n",
    "\n",
    "# On score avec F1\n",
    "score = f1_score(y_test_c, yhat,average=\"weighted\")\n",
    "print('F1 Score: %.3f' % score)\n",
    "\n"
   ]
  },
  {
   "cell_type": "markdown",
   "metadata": {},
   "source": [
    "### COPOD - Copula Based Outlier Detector "
   ]
  },
  {
   "cell_type": "code",
   "execution_count": 299,
   "metadata": {},
   "outputs": [
    {
     "name": "stdout",
     "output_type": "stream",
     "text": [
      "F1 Score: 0.264\n"
     ]
    }
   ],
   "source": [
    "mad = COPOD(contamination=0.3)\n",
    "mad.fit(X_train_d)\n",
    "\n",
    "# On détecte les anomalies sur le test set\n",
    "yhat = mad.predict(X_test_d)\n",
    "\n",
    "# On score avec F1\n",
    "score = f1_score(y_test_bi, yhat,average=\"weighted\")\n",
    "print('F1 Score: %.3f' % score)"
   ]
  },
  {
   "cell_type": "markdown",
   "metadata": {},
   "source": [
    "### SOS-Stochastic Outlier Selection "
   ]
  },
  {
   "cell_type": "code",
   "execution_count": 369,
   "metadata": {},
   "outputs": [
    {
     "name": "stdout",
     "output_type": "stream",
     "text": [
      "F1 Score: 0.303\n"
     ]
    }
   ],
   "source": [
    "sos = SOS(contamination=0.3,perplexity=35, metric='euclidean', eps=2)\n",
    "sos.fit(X_train_d)\n",
    "\n",
    "# On détecte les anomalies sur le test set\n",
    "yhat = sos.predict(X_test_d)\n",
    "\n",
    "# On score avec F1\n",
    "score = f1_score(y_test_bi, yhat,average=\"weighted\")\n",
    "print('F1 Score: %.3f' % score)"
   ]
  },
  {
   "cell_type": "markdown",
   "metadata": {},
   "source": [
    "## Neural Networks"
   ]
  },
  {
   "cell_type": "markdown",
   "metadata": {},
   "source": [
    "### Single-Objective Generative Adversarial Active Learning"
   ]
  },
  {
   "cell_type": "code",
   "execution_count": 480,
   "metadata": {},
   "outputs": [
    {
     "name": "stdout",
     "output_type": "stream",
     "text": [
      "Epoch 1 of 90\n",
      "\n",
      "Testing for epoch 1 index 1:\n",
      "Epoch 2 of 90\n",
      "\n",
      "Testing for epoch 2 index 1:\n",
      "Epoch 3 of 90\n",
      "\n",
      "Testing for epoch 3 index 1:\n",
      "Epoch 4 of 90\n",
      "\n",
      "Testing for epoch 4 index 1:\n",
      "Epoch 5 of 90\n",
      "\n",
      "Testing for epoch 5 index 1:\n",
      "Epoch 6 of 90\n",
      "\n",
      "Testing for epoch 6 index 1:\n",
      "Epoch 7 of 90\n",
      "\n",
      "Testing for epoch 7 index 1:\n",
      "Epoch 8 of 90\n",
      "\n",
      "Testing for epoch 8 index 1:\n",
      "Epoch 9 of 90\n",
      "\n",
      "Testing for epoch 9 index 1:\n",
      "Epoch 10 of 90\n",
      "\n",
      "Testing for epoch 10 index 1:\n",
      "Epoch 11 of 90\n",
      "\n",
      "Testing for epoch 11 index 1:\n",
      "Epoch 12 of 90\n",
      "\n",
      "Testing for epoch 12 index 1:\n",
      "Epoch 13 of 90\n",
      "\n",
      "Testing for epoch 13 index 1:\n",
      "Epoch 14 of 90\n",
      "\n",
      "Testing for epoch 14 index 1:\n",
      "Epoch 15 of 90\n",
      "\n",
      "Testing for epoch 15 index 1:\n",
      "Epoch 16 of 90\n",
      "\n",
      "Testing for epoch 16 index 1:\n",
      "Epoch 17 of 90\n",
      "\n",
      "Testing for epoch 17 index 1:\n",
      "Epoch 18 of 90\n",
      "\n",
      "Testing for epoch 18 index 1:\n",
      "Epoch 19 of 90\n",
      "\n",
      "Testing for epoch 19 index 1:\n",
      "Epoch 20 of 90\n",
      "\n",
      "Testing for epoch 20 index 1:\n",
      "Epoch 21 of 90\n",
      "\n",
      "Testing for epoch 21 index 1:\n",
      "Epoch 22 of 90\n",
      "\n",
      "Testing for epoch 22 index 1:\n",
      "Epoch 23 of 90\n",
      "\n",
      "Testing for epoch 23 index 1:\n",
      "Epoch 24 of 90\n",
      "\n",
      "Testing for epoch 24 index 1:\n",
      "Epoch 25 of 90\n",
      "\n",
      "Testing for epoch 25 index 1:\n",
      "Epoch 26 of 90\n",
      "\n",
      "Testing for epoch 26 index 1:\n",
      "Epoch 27 of 90\n",
      "\n",
      "Testing for epoch 27 index 1:\n",
      "Epoch 28 of 90\n",
      "\n",
      "Testing for epoch 28 index 1:\n",
      "Epoch 29 of 90\n",
      "\n",
      "Testing for epoch 29 index 1:\n",
      "Epoch 30 of 90\n",
      "\n",
      "Testing for epoch 30 index 1:\n",
      "Epoch 31 of 90\n",
      "\n",
      "Testing for epoch 31 index 1:\n",
      "Epoch 32 of 90\n",
      "\n",
      "Testing for epoch 32 index 1:\n",
      "11/11 [==============================] - 0s 900us/step - loss: 0.6488\n",
      "Epoch 33 of 90\n",
      "\n",
      "Testing for epoch 33 index 1:\n",
      "11/11 [==============================] - 0s 1ms/step - loss: 0.6454\n",
      "Epoch 34 of 90\n",
      "\n",
      "Testing for epoch 34 index 1:\n",
      "11/11 [==============================] - 0s 996us/step - loss: 0.6430\n",
      "Epoch 35 of 90\n",
      "\n",
      "Testing for epoch 35 index 1:\n",
      "11/11 [==============================] - 0s 1ms/step - loss: 0.6427\n",
      "Epoch 36 of 90\n",
      "\n",
      "Testing for epoch 36 index 1:\n",
      "11/11 [==============================] - 0s 1000us/step - loss: 0.6457\n",
      "Epoch 37 of 90\n",
      "\n",
      "Testing for epoch 37 index 1:\n",
      "11/11 [==============================] - 0s 1ms/step - loss: 0.6366\n",
      "Epoch 38 of 90\n",
      "\n",
      "Testing for epoch 38 index 1:\n",
      "11/11 [==============================] - 0s 900us/step - loss: 0.6375\n",
      "Epoch 39 of 90\n",
      "\n",
      "Testing for epoch 39 index 1:\n",
      "11/11 [==============================] - 0s 1ms/step - loss: 0.6422\n",
      "Epoch 40 of 90\n",
      "\n",
      "Testing for epoch 40 index 1:\n",
      "11/11 [==============================] - 0s 996us/step - loss: 0.6297\n",
      "Epoch 41 of 90\n",
      "\n",
      "Testing for epoch 41 index 1:\n",
      "11/11 [==============================] - 0s 1ms/step - loss: 0.6321\n",
      "Epoch 42 of 90\n",
      "\n",
      "Testing for epoch 42 index 1:\n",
      "11/11 [==============================] - 0s 1ms/step - loss: 0.6378\n",
      "Epoch 43 of 90\n",
      "\n",
      "Testing for epoch 43 index 1:\n",
      "11/11 [==============================] - 0s 1ms/step - loss: 0.6387\n",
      "Epoch 44 of 90\n",
      "\n",
      "Testing for epoch 44 index 1:\n",
      "11/11 [==============================] - 0s 1ms/step - loss: 0.6425\n",
      "Epoch 45 of 90\n",
      "\n",
      "Testing for epoch 45 index 1:\n",
      "11/11 [==============================] - 0s 1ms/step - loss: 0.6380\n",
      "Epoch 46 of 90\n",
      "\n",
      "Testing for epoch 46 index 1:\n",
      "11/11 [==============================] - 0s 1ms/step - loss: 0.6447\n",
      "Epoch 47 of 90\n",
      "\n",
      "Testing for epoch 47 index 1:\n",
      "11/11 [==============================] - 0s 900us/step - loss: 0.6310\n",
      "Epoch 48 of 90\n",
      "\n",
      "Testing for epoch 48 index 1:\n",
      "11/11 [==============================] - 0s 2ms/step - loss: 0.6425\n",
      "Epoch 49 of 90\n",
      "\n",
      "Testing for epoch 49 index 1:\n",
      "11/11 [==============================] - 0s 1ms/step - loss: 0.6495\n",
      "Epoch 50 of 90\n",
      "\n",
      "Testing for epoch 50 index 1:\n",
      "11/11 [==============================] - 0s 1ms/step - loss: 0.6327\n",
      "Epoch 51 of 90\n",
      "\n",
      "Testing for epoch 51 index 1:\n",
      "11/11 [==============================] - 0s 1ms/step - loss: 0.6360\n",
      "Epoch 52 of 90\n",
      "\n",
      "Testing for epoch 52 index 1:\n",
      "11/11 [==============================] - 0s 1ms/step - loss: 0.6285\n",
      "Epoch 53 of 90\n",
      "\n",
      "Testing for epoch 53 index 1:\n",
      "11/11 [==============================] - 0s 1ms/step - loss: 0.6407\n",
      "Epoch 54 of 90\n",
      "\n",
      "Testing for epoch 54 index 1:\n",
      "11/11 [==============================] - 0s 1ms/step - loss: 0.6441\n",
      "Epoch 55 of 90\n",
      "\n",
      "Testing for epoch 55 index 1:\n",
      "11/11 [==============================] - 0s 1ms/step - loss: 0.6292\n",
      "Epoch 56 of 90\n",
      "\n",
      "Testing for epoch 56 index 1:\n",
      "11/11 [==============================] - 0s 1ms/step - loss: 0.6289\n",
      "Epoch 57 of 90\n",
      "\n",
      "Testing for epoch 57 index 1:\n",
      "11/11 [==============================] - 0s 1ms/step - loss: 0.6416\n",
      "Epoch 58 of 90\n",
      "\n",
      "Testing for epoch 58 index 1:\n",
      "11/11 [==============================] - 0s 1ms/step - loss: 0.6419\n",
      "Epoch 59 of 90\n",
      "\n",
      "Testing for epoch 59 index 1:\n",
      "11/11 [==============================] - 0s 900us/step - loss: 0.6480\n",
      "Epoch 60 of 90\n",
      "\n",
      "Testing for epoch 60 index 1:\n",
      "11/11 [==============================] - 0s 1000us/step - loss: 0.6338\n",
      "Epoch 61 of 90\n",
      "\n",
      "Testing for epoch 61 index 1:\n",
      "11/11 [==============================] - 0s 1ms/step - loss: 0.6262\n",
      "Epoch 62 of 90\n",
      "\n",
      "Testing for epoch 62 index 1:\n",
      "11/11 [==============================] - 0s 1ms/step - loss: 0.6346\n",
      "Epoch 63 of 90\n",
      "\n",
      "Testing for epoch 63 index 1:\n",
      "11/11 [==============================] - 0s 1ms/step - loss: 0.6386\n",
      "Epoch 64 of 90\n",
      "\n",
      "Testing for epoch 64 index 1:\n",
      "11/11 [==============================] - 0s 1ms/step - loss: 0.6298\n",
      "Epoch 65 of 90\n",
      "\n",
      "Testing for epoch 65 index 1:\n",
      "11/11 [==============================] - 0s 1000us/step - loss: 0.6426\n",
      "Epoch 66 of 90\n",
      "\n",
      "Testing for epoch 66 index 1:\n",
      "11/11 [==============================] - 0s 1ms/step - loss: 0.6309\n",
      "Epoch 67 of 90\n",
      "\n",
      "Testing for epoch 67 index 1:\n",
      "11/11 [==============================] - 0s 1ms/step - loss: 0.6408\n",
      "Epoch 68 of 90\n",
      "\n",
      "Testing for epoch 68 index 1:\n",
      "11/11 [==============================] - 0s 1ms/step - loss: 0.6363\n",
      "Epoch 69 of 90\n",
      "\n",
      "Testing for epoch 69 index 1:\n",
      "11/11 [==============================] - 0s 2ms/step - loss: 0.6410\n",
      "Epoch 70 of 90\n",
      "\n",
      "Testing for epoch 70 index 1:\n",
      "11/11 [==============================] - 0s 1ms/step - loss: 0.6465\n",
      "Epoch 71 of 90\n",
      "\n",
      "Testing for epoch 71 index 1:\n",
      "11/11 [==============================] - 0s 1ms/step - loss: 0.6323\n",
      "Epoch 72 of 90\n",
      "\n",
      "Testing for epoch 72 index 1:\n",
      "11/11 [==============================] - 0s 2ms/step - loss: 0.6309\n",
      "Epoch 73 of 90\n",
      "\n",
      "Testing for epoch 73 index 1:\n",
      "11/11 [==============================] - 0s 1ms/step - loss: 0.6214\n",
      "Epoch 74 of 90\n",
      "\n",
      "Testing for epoch 74 index 1:\n",
      "11/11 [==============================] - 0s 2ms/step - loss: 0.6373\n",
      "Epoch 75 of 90\n",
      "\n",
      "Testing for epoch 75 index 1:\n",
      "11/11 [==============================] - 0s 2ms/step - loss: 0.6372\n",
      "Epoch 76 of 90\n",
      "\n",
      "Testing for epoch 76 index 1:\n",
      "11/11 [==============================] - 0s 3ms/step - loss: 0.6272\n",
      "Epoch 77 of 90\n",
      "\n",
      "Testing for epoch 77 index 1:\n",
      "11/11 [==============================] - 0s 1ms/step - loss: 0.6294\n",
      "Epoch 78 of 90\n",
      "\n",
      "Testing for epoch 78 index 1:\n",
      "11/11 [==============================] - 0s 1ms/step - loss: 0.6401\n",
      "Epoch 79 of 90\n",
      "\n",
      "Testing for epoch 79 index 1:\n",
      "11/11 [==============================] - 0s 1ms/step - loss: 0.6320\n",
      "Epoch 80 of 90\n",
      "\n",
      "Testing for epoch 80 index 1:\n",
      "11/11 [==============================] - 0s 1ms/step - loss: 0.6447\n",
      "Epoch 81 of 90\n",
      "\n",
      "Testing for epoch 81 index 1:\n",
      "11/11 [==============================] - 0s 1ms/step - loss: 0.6362\n",
      "Epoch 82 of 90\n",
      "\n",
      "Testing for epoch 82 index 1:\n",
      "11/11 [==============================] - 0s 1ms/step - loss: 0.6224\n",
      "Epoch 83 of 90\n",
      "\n",
      "Testing for epoch 83 index 1:\n",
      "11/11 [==============================] - 0s 1ms/step - loss: 0.6363\n",
      "Epoch 84 of 90\n",
      "\n",
      "Testing for epoch 84 index 1:\n",
      "11/11 [==============================] - 0s 1ms/step - loss: 0.6291\n",
      "Epoch 85 of 90\n",
      "\n",
      "Testing for epoch 85 index 1:\n",
      "11/11 [==============================] - 0s 1ms/step - loss: 0.6225\n",
      "Epoch 86 of 90\n",
      "\n",
      "Testing for epoch 86 index 1:\n",
      "11/11 [==============================] - 0s 1ms/step - loss: 0.6355\n",
      "Epoch 87 of 90\n",
      "\n",
      "Testing for epoch 87 index 1:\n",
      "11/11 [==============================] - 0s 1ms/step - loss: 0.6286\n",
      "Epoch 88 of 90\n",
      "\n",
      "Testing for epoch 88 index 1:\n",
      "11/11 [==============================] - 0s 1ms/step - loss: 0.6404\n",
      "Epoch 89 of 90\n",
      "\n",
      "Testing for epoch 89 index 1:\n",
      "11/11 [==============================] - 0s 1ms/step - loss: 0.6377\n",
      "Epoch 90 of 90\n",
      "\n",
      "Testing for epoch 90 index 1:\n",
      "11/11 [==============================] - 0s 1ms/step - loss: 0.6386\n",
      "F1 Score: 0.263\n"
     ]
    }
   ],
   "source": [
    "sog=SO_GAAL(stop_epochs=30, lr_d=0.0001, lr_g=0.00001, decay=0.7, contamination=0.3)\n",
    "sog.fit(X_train_d)\n",
    "\n",
    "# On détecte les anomalies sur le test set\n",
    "yhat = sog.predict(X_test_d)\n",
    "\n",
    "# On score avec F1\n",
    "score = f1_score(y_test_bi, yhat,average=\"weighted\")\n",
    "print('F1 Score: %.3f' % score)"
   ]
  },
  {
   "cell_type": "code",
   "execution_count": 481,
   "metadata": {},
   "outputs": [
    {
     "name": "stdout",
     "output_type": "stream",
     "text": [
      "F1 Score: 0.263\n"
     ]
    }
   ],
   "source": [
    "print('F1 Score: %.3f' % score)"
   ]
  },
  {
   "cell_type": "markdown",
   "metadata": {},
   "source": [
    "### Multiple-Objective Generative Adversarial Active Learning"
   ]
  },
  {
   "cell_type": "code",
   "execution_count": 472,
   "metadata": {},
   "outputs": [
    {
     "name": "stdout",
     "output_type": "stream",
     "text": [
      "Epoch 1 of 90\n",
      "\n",
      "Testing for epoch 1 index 1:\n",
      "WARNING:tensorflow:5 out of the last 29 calls to <function Model.make_predict_function.<locals>.predict_function at 0x000001FEDC3FF040> triggered tf.function retracing. Tracing is expensive and the excessive number of tracings could be due to (1) creating @tf.function repeatedly in a loop, (2) passing tensors with different shapes, (3) passing Python objects instead of tensors. For (1), please define your @tf.function outside of the loop. For (2), @tf.function has experimental_relax_shapes=True option that relaxes argument shapes that can avoid unnecessary retracing. For (3), please refer to https://www.tensorflow.org/guide/function#controlling_retracing and https://www.tensorflow.org/api_docs/python/tf/function for  more details.\n",
      "WARNING:tensorflow:6 out of the last 31 calls to <function Model.make_predict_function.<locals>.predict_function at 0x000001FEDCE8A0D0> triggered tf.function retracing. Tracing is expensive and the excessive number of tracings could be due to (1) creating @tf.function repeatedly in a loop, (2) passing tensors with different shapes, (3) passing Python objects instead of tensors. For (1), please define your @tf.function outside of the loop. For (2), @tf.function has experimental_relax_shapes=True option that relaxes argument shapes that can avoid unnecessary retracing. For (3), please refer to https://www.tensorflow.org/guide/function#controlling_retracing and https://www.tensorflow.org/api_docs/python/tf/function for  more details.\n",
      "WARNING:tensorflow:6 out of the last 11 calls to <function Model.make_predict_function.<locals>.predict_function at 0x000001FEDC3FFC10> triggered tf.function retracing. Tracing is expensive and the excessive number of tracings could be due to (1) creating @tf.function repeatedly in a loop, (2) passing tensors with different shapes, (3) passing Python objects instead of tensors. For (1), please define your @tf.function outside of the loop. For (2), @tf.function has experimental_relax_shapes=True option that relaxes argument shapes that can avoid unnecessary retracing. For (3), please refer to https://www.tensorflow.org/guide/function#controlling_retracing and https://www.tensorflow.org/api_docs/python/tf/function for  more details.\n",
      "WARNING:tensorflow:7 out of the last 12 calls to <function Model.make_predict_function.<locals>.predict_function at 0x000001FEDCE8A4C0> triggered tf.function retracing. Tracing is expensive and the excessive number of tracings could be due to (1) creating @tf.function repeatedly in a loop, (2) passing tensors with different shapes, (3) passing Python objects instead of tensors. For (1), please define your @tf.function outside of the loop. For (2), @tf.function has experimental_relax_shapes=True option that relaxes argument shapes that can avoid unnecessary retracing. For (3), please refer to https://www.tensorflow.org/guide/function#controlling_retracing and https://www.tensorflow.org/api_docs/python/tf/function for  more details.\n",
      "WARNING:tensorflow:7 out of the last 11 calls to <function Model.make_predict_function.<locals>.predict_function at 0x000001FEDC2B40D0> triggered tf.function retracing. Tracing is expensive and the excessive number of tracings could be due to (1) creating @tf.function repeatedly in a loop, (2) passing tensors with different shapes, (3) passing Python objects instead of tensors. For (1), please define your @tf.function outside of the loop. For (2), @tf.function has experimental_relax_shapes=True option that relaxes argument shapes that can avoid unnecessary retracing. For (3), please refer to https://www.tensorflow.org/guide/function#controlling_retracing and https://www.tensorflow.org/api_docs/python/tf/function for  more details.\n",
      "WARNING:tensorflow:8 out of the last 12 calls to <function Model.make_predict_function.<locals>.predict_function at 0x000001FEDC1EF160> triggered tf.function retracing. Tracing is expensive and the excessive number of tracings could be due to (1) creating @tf.function repeatedly in a loop, (2) passing tensors with different shapes, (3) passing Python objects instead of tensors. For (1), please define your @tf.function outside of the loop. For (2), @tf.function has experimental_relax_shapes=True option that relaxes argument shapes that can avoid unnecessary retracing. For (3), please refer to https://www.tensorflow.org/guide/function#controlling_retracing and https://www.tensorflow.org/api_docs/python/tf/function for  more details.\n",
      "WARNING:tensorflow:8 out of the last 11 calls to <function Model.make_predict_function.<locals>.predict_function at 0x000001FEDBDD98B0> triggered tf.function retracing. Tracing is expensive and the excessive number of tracings could be due to (1) creating @tf.function repeatedly in a loop, (2) passing tensors with different shapes, (3) passing Python objects instead of tensors. For (1), please define your @tf.function outside of the loop. For (2), @tf.function has experimental_relax_shapes=True option that relaxes argument shapes that can avoid unnecessary retracing. For (3), please refer to https://www.tensorflow.org/guide/function#controlling_retracing and https://www.tensorflow.org/api_docs/python/tf/function for  more details.\n",
      "WARNING:tensorflow:9 out of the last 12 calls to <function Model.make_predict_function.<locals>.predict_function at 0x000001FEDC477AF0> triggered tf.function retracing. Tracing is expensive and the excessive number of tracings could be due to (1) creating @tf.function repeatedly in a loop, (2) passing tensors with different shapes, (3) passing Python objects instead of tensors. For (1), please define your @tf.function outside of the loop. For (2), @tf.function has experimental_relax_shapes=True option that relaxes argument shapes that can avoid unnecessary retracing. For (3), please refer to https://www.tensorflow.org/guide/function#controlling_retracing and https://www.tensorflow.org/api_docs/python/tf/function for  more details.\n",
      "WARNING:tensorflow:5 out of the last 124 calls to <function Model.make_train_function.<locals>.train_function at 0x000001FEDD190550> triggered tf.function retracing. Tracing is expensive and the excessive number of tracings could be due to (1) creating @tf.function repeatedly in a loop, (2) passing tensors with different shapes, (3) passing Python objects instead of tensors. For (1), please define your @tf.function outside of the loop. For (2), @tf.function has experimental_relax_shapes=True option that relaxes argument shapes that can avoid unnecessary retracing. For (3), please refer to https://www.tensorflow.org/guide/function#controlling_retracing and https://www.tensorflow.org/api_docs/python/tf/function for  more details.\n",
      "WARNING:tensorflow:6 out of the last 125 calls to <function Model.make_train_function.<locals>.train_function at 0x000001FEDC438A60> triggered tf.function retracing. Tracing is expensive and the excessive number of tracings could be due to (1) creating @tf.function repeatedly in a loop, (2) passing tensors with different shapes, (3) passing Python objects instead of tensors. For (1), please define your @tf.function outside of the loop. For (2), @tf.function has experimental_relax_shapes=True option that relaxes argument shapes that can avoid unnecessary retracing. For (3), please refer to https://www.tensorflow.org/guide/function#controlling_retracing and https://www.tensorflow.org/api_docs/python/tf/function for  more details.\n",
      "WARNING:tensorflow:7 out of the last 126 calls to <function Model.make_train_function.<locals>.train_function at 0x000001FEDCFDE670> triggered tf.function retracing. Tracing is expensive and the excessive number of tracings could be due to (1) creating @tf.function repeatedly in a loop, (2) passing tensors with different shapes, (3) passing Python objects instead of tensors. For (1), please define your @tf.function outside of the loop. For (2), @tf.function has experimental_relax_shapes=True option that relaxes argument shapes that can avoid unnecessary retracing. For (3), please refer to https://www.tensorflow.org/guide/function#controlling_retracing and https://www.tensorflow.org/api_docs/python/tf/function for  more details.\n",
      "WARNING:tensorflow:8 out of the last 127 calls to <function Model.make_train_function.<locals>.train_function at 0x000001FEDD06D280> triggered tf.function retracing. Tracing is expensive and the excessive number of tracings could be due to (1) creating @tf.function repeatedly in a loop, (2) passing tensors with different shapes, (3) passing Python objects instead of tensors. For (1), please define your @tf.function outside of the loop. For (2), @tf.function has experimental_relax_shapes=True option that relaxes argument shapes that can avoid unnecessary retracing. For (3), please refer to https://www.tensorflow.org/guide/function#controlling_retracing and https://www.tensorflow.org/api_docs/python/tf/function for  more details.\n"
     ]
    },
    {
     "name": "stdout",
     "output_type": "stream",
     "text": [
      "WARNING:tensorflow:9 out of the last 128 calls to <function Model.make_train_function.<locals>.train_function at 0x000001FEDBDD9DC0> triggered tf.function retracing. Tracing is expensive and the excessive number of tracings could be due to (1) creating @tf.function repeatedly in a loop, (2) passing tensors with different shapes, (3) passing Python objects instead of tensors. For (1), please define your @tf.function outside of the loop. For (2), @tf.function has experimental_relax_shapes=True option that relaxes argument shapes that can avoid unnecessary retracing. For (3), please refer to https://www.tensorflow.org/guide/function#controlling_retracing and https://www.tensorflow.org/api_docs/python/tf/function for  more details.\n",
      "WARNING:tensorflow:10 out of the last 129 calls to <function Model.make_train_function.<locals>.train_function at 0x000001FEDC2B4040> triggered tf.function retracing. Tracing is expensive and the excessive number of tracings could be due to (1) creating @tf.function repeatedly in a loop, (2) passing tensors with different shapes, (3) passing Python objects instead of tensors. For (1), please define your @tf.function outside of the loop. For (2), @tf.function has experimental_relax_shapes=True option that relaxes argument shapes that can avoid unnecessary retracing. For (3), please refer to https://www.tensorflow.org/guide/function#controlling_retracing and https://www.tensorflow.org/api_docs/python/tf/function for  more details.\n",
      "WARNING:tensorflow:11 out of the last 130 calls to <function Model.make_train_function.<locals>.train_function at 0x000001FEDC161790> triggered tf.function retracing. Tracing is expensive and the excessive number of tracings could be due to (1) creating @tf.function repeatedly in a loop, (2) passing tensors with different shapes, (3) passing Python objects instead of tensors. For (1), please define your @tf.function outside of the loop. For (2), @tf.function has experimental_relax_shapes=True option that relaxes argument shapes that can avoid unnecessary retracing. For (3), please refer to https://www.tensorflow.org/guide/function#controlling_retracing and https://www.tensorflow.org/api_docs/python/tf/function for  more details.\n",
      "WARNING:tensorflow:11 out of the last 11 calls to <function Model.make_train_function.<locals>.train_function at 0x000001FEDBC21430> triggered tf.function retracing. Tracing is expensive and the excessive number of tracings could be due to (1) creating @tf.function repeatedly in a loop, (2) passing tensors with different shapes, (3) passing Python objects instead of tensors. For (1), please define your @tf.function outside of the loop. For (2), @tf.function has experimental_relax_shapes=True option that relaxes argument shapes that can avoid unnecessary retracing. For (3), please refer to https://www.tensorflow.org/guide/function#controlling_retracing and https://www.tensorflow.org/api_docs/python/tf/function for  more details.\n",
      "Epoch 2 of 90\n",
      "\n",
      "Testing for epoch 2 index 1:\n",
      "Epoch 3 of 90\n",
      "\n",
      "Testing for epoch 3 index 1:\n",
      "Epoch 4 of 90\n",
      "\n",
      "Testing for epoch 4 index 1:\n",
      "Epoch 5 of 90\n",
      "\n",
      "Testing for epoch 5 index 1:\n",
      "Epoch 6 of 90\n",
      "\n",
      "Testing for epoch 6 index 1:\n",
      "Epoch 7 of 90\n",
      "\n",
      "Testing for epoch 7 index 1:\n",
      "Epoch 8 of 90\n",
      "\n",
      "Testing for epoch 8 index 1:\n",
      "Epoch 9 of 90\n",
      "\n",
      "Testing for epoch 9 index 1:\n",
      "Epoch 10 of 90\n",
      "\n",
      "Testing for epoch 10 index 1:\n",
      "Epoch 11 of 90\n",
      "\n",
      "Testing for epoch 11 index 1:\n",
      "Epoch 12 of 90\n",
      "\n",
      "Testing for epoch 12 index 1:\n",
      "Epoch 13 of 90\n",
      "\n",
      "Testing for epoch 13 index 1:\n",
      "Epoch 14 of 90\n",
      "\n",
      "Testing for epoch 14 index 1:\n",
      "Epoch 15 of 90\n",
      "\n",
      "Testing for epoch 15 index 1:\n",
      "Epoch 16 of 90\n",
      "\n",
      "Testing for epoch 16 index 1:\n",
      "Epoch 17 of 90\n",
      "\n",
      "Testing for epoch 17 index 1:\n",
      "Epoch 18 of 90\n",
      "\n",
      "Testing for epoch 18 index 1:\n",
      "Epoch 19 of 90\n",
      "\n",
      "Testing for epoch 19 index 1:\n",
      "Epoch 20 of 90\n",
      "\n",
      "Testing for epoch 20 index 1:\n",
      "Epoch 21 of 90\n",
      "\n",
      "Testing for epoch 21 index 1:\n",
      "Epoch 22 of 90\n",
      "\n",
      "Testing for epoch 22 index 1:\n",
      "Epoch 23 of 90\n",
      "\n",
      "Testing for epoch 23 index 1:\n",
      "Epoch 24 of 90\n",
      "\n",
      "Testing for epoch 24 index 1:\n",
      "Epoch 25 of 90\n",
      "\n",
      "Testing for epoch 25 index 1:\n",
      "Epoch 26 of 90\n",
      "\n",
      "Testing for epoch 26 index 1:\n",
      "Epoch 27 of 90\n",
      "\n",
      "Testing for epoch 27 index 1:\n",
      "Epoch 28 of 90\n",
      "\n",
      "Testing for epoch 28 index 1:\n",
      "Epoch 29 of 90\n",
      "\n",
      "Testing for epoch 29 index 1:\n",
      "Epoch 30 of 90\n",
      "\n",
      "Testing for epoch 30 index 1:\n",
      "Epoch 31 of 90\n",
      "\n",
      "Testing for epoch 31 index 1:\n",
      "Epoch 32 of 90\n",
      "\n",
      "Testing for epoch 32 index 1:\n",
      "11/11 [==============================] - 0s 800us/step - loss: 0.8247\n",
      "11/11 [==============================] - 0s 800us/step - loss: 0.7570\n",
      "11/11 [==============================] - 0s 900us/step - loss: 0.7350\n",
      "11/11 [==============================] - 0s 800us/step - loss: 0.7217\n",
      "11/11 [==============================] - 0s 1ms/step - loss: 0.7135\n",
      "11/11 [==============================] - 0s 900us/step - loss: 0.7059\n",
      "11/11 [==============================] - 0s 951us/step - loss: 0.6979\n",
      "11/11 [==============================] - 0s 1ms/step - loss: 0.6828\n",
      "11/11 [==============================] - 0s 1ms/step - loss: 0.6707\n",
      "11/11 [==============================] - 0s 1ms/step - loss: 0.6146\n",
      "Epoch 33 of 90\n",
      "\n",
      "Testing for epoch 33 index 1:\n",
      "11/11 [==============================] - 0s 1ms/step - loss: 0.8443\n",
      "11/11 [==============================] - 0s 900us/step - loss: 0.7652\n",
      "11/11 [==============================] - 0s 904us/step - loss: 0.7383\n",
      "11/11 [==============================] - 0s 804us/step - loss: 0.7230\n",
      "11/11 [==============================] - 0s 938us/step - loss: 0.7149\n",
      "11/11 [==============================] - 0s 903us/step - loss: 0.7055\n",
      "11/11 [==============================] - 0s 1ms/step - loss: 0.6954\n",
      "11/11 [==============================] - 0s 899us/step - loss: 0.6793\n",
      "11/11 [==============================] - 0s 1ms/step - loss: 0.6639\n",
      "11/11 [==============================] - 0s 900us/step - loss: 0.6002\n",
      "Epoch 34 of 90\n",
      "\n",
      "Testing for epoch 34 index 1:\n",
      "11/11 [==============================] - 0s 895us/step - loss: 0.8373\n",
      "11/11 [==============================] - 0s 899us/step - loss: 0.7613\n",
      "11/11 [==============================] - 0s 899us/step - loss: 0.7345\n",
      "11/11 [==============================] - 0s 903us/step - loss: 0.7207\n",
      "11/11 [==============================] - 0s 1ms/step - loss: 0.7131\n",
      "11/11 [==============================] - 0s 895us/step - loss: 0.7038\n",
      "11/11 [==============================] - 0s 900us/step - loss: 0.6933\n",
      "11/11 [==============================] - 0s 1ms/step - loss: 0.6791\n",
      "11/11 [==============================] - 0s 900us/step - loss: 0.6625\n",
      "11/11 [==============================] - 0s 900us/step - loss: 0.6030\n",
      "Epoch 35 of 90\n",
      "\n",
      "Testing for epoch 35 index 1:\n",
      "11/11 [==============================] - 0s 900us/step - loss: 0.8414\n",
      "11/11 [==============================] - 0s 996us/step - loss: 0.7620\n",
      "11/11 [==============================] - 0s 900us/step - loss: 0.7314\n",
      "11/11 [==============================] - 0s 1ms/step - loss: 0.7181\n",
      "11/11 [==============================] - 0s 900us/step - loss: 0.7103\n",
      "11/11 [==============================] - 0s 1ms/step - loss: 0.7022\n",
      "11/11 [==============================] - 0s 797us/step - loss: 0.6912\n",
      "11/11 [==============================] - 0s 900us/step - loss: 0.6767\n",
      "11/11 [==============================] - 0s 904us/step - loss: 0.6583\n",
      "11/11 [==============================] - 0s 900us/step - loss: 0.5983\n",
      "Epoch 36 of 90\n",
      "\n",
      "Testing for epoch 36 index 1:\n",
      "11/11 [==============================] - 0s 1ms/step - loss: 0.8357\n",
      "11/11 [==============================] - 0s 1000us/step - loss: 0.7590\n",
      "11/11 [==============================] - 0s 900us/step - loss: 0.7294\n",
      "11/11 [==============================] - 0s 1ms/step - loss: 0.7161\n",
      "11/11 [==============================] - 0s 1ms/step - loss: 0.7086\n",
      "11/11 [==============================] - 0s 893us/step - loss: 0.7017\n",
      "11/11 [==============================] - 0s 996us/step - loss: 0.6908\n",
      "11/11 [==============================] - 0s 903us/step - loss: 0.6751\n",
      "11/11 [==============================] - 0s 1ms/step - loss: 0.6595\n",
      "11/11 [==============================] - 0s 904us/step - loss: 0.6022\n",
      "Epoch 37 of 90\n",
      "\n",
      "Testing for epoch 37 index 1:\n",
      "11/11 [==============================] - 0s 903us/step - loss: 0.8336\n",
      "11/11 [==============================] - 0s 900us/step - loss: 0.7567\n",
      "11/11 [==============================] - 0s 900us/step - loss: 0.7281\n",
      "11/11 [==============================] - 0s 900us/step - loss: 0.7147\n",
      "11/11 [==============================] - 0s 900us/step - loss: 0.7078\n",
      "11/11 [==============================] - 0s 896us/step - loss: 0.7007\n",
      "11/11 [==============================] - 0s 899us/step - loss: 0.6900\n",
      "11/11 [==============================] - 0s 800us/step - loss: 0.6733\n",
      "11/11 [==============================] - 0s 995us/step - loss: 0.6593\n",
      "11/11 [==============================] - 0s 1ms/step - loss: 0.6030\n",
      "Epoch 38 of 90\n",
      "\n",
      "Testing for epoch 38 index 1:\n",
      "11/11 [==============================] - 0s 1000us/step - loss: 0.8311\n",
      "11/11 [==============================] - 0s 900us/step - loss: 0.7540\n",
      "11/11 [==============================] - 0s 900us/step - loss: 0.7271\n",
      "11/11 [==============================] - 0s 900us/step - loss: 0.7136\n",
      "11/11 [==============================] - 0s 904us/step - loss: 0.7076\n",
      "11/11 [==============================] - 0s 1ms/step - loss: 0.7002\n",
      "11/11 [==============================] - 0s 2ms/step - loss: 0.6896\n",
      "11/11 [==============================] - 0s 900us/step - loss: 0.6734\n",
      "11/11 [==============================] - 0s 1000us/step - loss: 0.6587\n",
      "11/11 [==============================] - 0s 903us/step - loss: 0.6046\n",
      "Epoch 39 of 90\n",
      "\n",
      "Testing for epoch 39 index 1:\n",
      "11/11 [==============================] - 0s 900us/step - loss: 0.8388\n",
      "11/11 [==============================] - 0s 901us/step - loss: 0.7559\n",
      "11/11 [==============================] - 0s 903us/step - loss: 0.7285\n",
      "11/11 [==============================] - 0s 901us/step - loss: 0.7140\n",
      "11/11 [==============================] - 0s 800us/step - loss: 0.7081\n",
      "11/11 [==============================] - 0s 1000us/step - loss: 0.7002\n",
      "11/11 [==============================] - 0s 800us/step - loss: 0.6892\n",
      "11/11 [==============================] - 0s 906us/step - loss: 0.6718\n",
      "11/11 [==============================] - 0s 901us/step - loss: 0.6555\n",
      "11/11 [==============================] - 0s 895us/step - loss: 0.5992\n",
      "Epoch 40 of 90\n",
      "\n",
      "Testing for epoch 40 index 1:\n",
      "11/11 [==============================] - 0s 2ms/step - loss: 0.8307\n",
      "11/11 [==============================] - 0s 1ms/step - loss: 0.7505\n",
      "11/11 [==============================] - 0s 1ms/step - loss: 0.7242\n",
      "11/11 [==============================] - 0s 1ms/step - loss: 0.7102\n",
      "11/11 [==============================] - 0s 903us/step - loss: 0.7052\n",
      "11/11 [==============================] - 0s 900us/step - loss: 0.6974\n",
      "11/11 [==============================] - 0s 1ms/step - loss: 0.6870\n",
      "11/11 [==============================] - 0s 899us/step - loss: 0.6701\n",
      "11/11 [==============================] - 0s 896us/step - loss: 0.6537\n",
      "11/11 [==============================] - 0s 1ms/step - loss: 0.6003\n",
      "Epoch 41 of 90\n",
      "\n",
      "Testing for epoch 41 index 1:\n",
      "11/11 [==============================] - 0s 900us/step - loss: 0.8339\n",
      "11/11 [==============================] - 0s 1ms/step - loss: 0.7515\n",
      "11/11 [==============================] - 0s 900us/step - loss: 0.7249\n",
      "11/11 [==============================] - 0s 1ms/step - loss: 0.7107\n",
      "11/11 [==============================] - 0s 1000us/step - loss: 0.7058\n",
      "11/11 [==============================] - 0s 900us/step - loss: 0.6977\n",
      "11/11 [==============================] - 0s 900us/step - loss: 0.6872\n",
      "11/11 [==============================] - 0s 996us/step - loss: 0.6694\n",
      "11/11 [==============================] - 0s 1ms/step - loss: 0.6522\n",
      "11/11 [==============================] - 0s 1ms/step - loss: 0.5985\n",
      "Epoch 42 of 90\n",
      "\n",
      "Testing for epoch 42 index 1:\n",
      "11/11 [==============================] - 0s 2ms/step - loss: 0.8358\n",
      "11/11 [==============================] - 0s 903us/step - loss: 0.7518\n",
      "11/11 [==============================] - 0s 998us/step - loss: 0.7251\n",
      "11/11 [==============================] - 0s 900us/step - loss: 0.7108\n",
      "11/11 [==============================] - 0s 901us/step - loss: 0.7059\n",
      "11/11 [==============================] - 0s 1000us/step - loss: 0.6976\n",
      "11/11 [==============================] - 0s 900us/step - loss: 0.6871\n",
      "11/11 [==============================] - 0s 800us/step - loss: 0.6692\n",
      "11/11 [==============================] - 0s 1000us/step - loss: 0.6509\n",
      "11/11 [==============================] - 0s 900us/step - loss: 0.5972\n",
      "Epoch 43 of 90\n",
      "\n",
      "Testing for epoch 43 index 1:\n",
      "11/11 [==============================] - 0s 903us/step - loss: 0.8424\n",
      "11/11 [==============================] - 0s 1000us/step - loss: 0.7537\n",
      "11/11 [==============================] - 0s 1000us/step - loss: 0.7259\n",
      "11/11 [==============================] - 0s 1ms/step - loss: 0.7111\n",
      "11/11 [==============================] - 0s 900us/step - loss: 0.7057\n",
      "11/11 [==============================] - 0s 900us/step - loss: 0.6971\n",
      "11/11 [==============================] - 0s 996us/step - loss: 0.6863\n",
      "11/11 [==============================] - 0s 903us/step - loss: 0.6675\n",
      "11/11 [==============================] - 0s 1000us/step - loss: 0.6475\n",
      "11/11 [==============================] - 0s 903us/step - loss: 0.5920\n",
      "Epoch 44 of 90\n",
      "\n",
      "Testing for epoch 44 index 1:\n",
      "11/11 [==============================] - 0s 900us/step - loss: 0.8409\n",
      "11/11 [==============================] - 0s 999us/step - loss: 0.7517\n",
      "11/11 [==============================] - 0s 1ms/step - loss: 0.7241\n",
      "11/11 [==============================] - 0s 903us/step - loss: 0.7094\n",
      "11/11 [==============================] - 0s 900us/step - loss: 0.7038\n",
      "11/11 [==============================] - 0s 900us/step - loss: 0.6944\n",
      "11/11 [==============================] - 0s 1ms/step - loss: 0.6847\n",
      "11/11 [==============================] - 0s 1ms/step - loss: 0.6660\n",
      "11/11 [==============================] - 0s 1ms/step - loss: 0.6452\n",
      "11/11 [==============================] - 0s 1000us/step - loss: 0.5903\n",
      "Epoch 45 of 90\n",
      "\n",
      "Testing for epoch 45 index 1:\n",
      "11/11 [==============================] - 0s 1000us/step - loss: 0.8482\n",
      "11/11 [==============================] - 0s 1000us/step - loss: 0.7539\n",
      "11/11 [==============================] - 0s 1ms/step - loss: 0.7254\n",
      "11/11 [==============================] - 0s 1ms/step - loss: 0.7107\n",
      "11/11 [==============================] - 0s 900us/step - loss: 0.7047\n",
      "11/11 [==============================] - 0s 1ms/step - loss: 0.6943\n",
      "11/11 [==============================] - 0s 996us/step - loss: 0.6845\n",
      "11/11 [==============================] - 0s 999us/step - loss: 0.6656\n",
      "11/11 [==============================] - 0s 1ms/step - loss: 0.6431\n",
      "11/11 [==============================] - 0s 1000us/step - loss: 0.5865\n",
      "Epoch 46 of 90\n",
      "\n",
      "Testing for epoch 46 index 1:\n",
      "11/11 [==============================] - 0s 2ms/step - loss: 0.8288\n",
      "11/11 [==============================] - 0s 1000us/step - loss: 0.7458\n",
      "11/11 [==============================] - 0s 1ms/step - loss: 0.7204\n",
      "11/11 [==============================] - 0s 1ms/step - loss: 0.7079\n",
      "11/11 [==============================] - ETA: 0s - loss: 0.702 - 0s 1ms/step - loss: 0.7028\n",
      "11/11 [==============================] - 0s 1ms/step - loss: 0.6937\n",
      "11/11 [==============================] - 0s 1ms/step - loss: 0.6847\n",
      "11/11 [==============================] - 0s 1ms/step - loss: 0.6686\n",
      "11/11 [==============================] - 0s 1ms/step - loss: 0.6482\n",
      "11/11 [==============================] - 0s 1ms/step - loss: 0.5989\n",
      "Epoch 47 of 90\n",
      "\n",
      "Testing for epoch 47 index 1:\n",
      "11/11 [==============================] - 0s 1ms/step - loss: 0.8317\n",
      "11/11 [==============================] - 0s 1ms/step - loss: 0.7467\n",
      "11/11 [==============================] - 0s 1ms/step - loss: 0.7210\n",
      "11/11 [==============================] - 0s 1ms/step - loss: 0.7083\n",
      "11/11 [==============================] - 0s 1ms/step - loss: 0.7028\n",
      "11/11 [==============================] - 0s 1ms/step - loss: 0.6935\n",
      "11/11 [==============================] - 0s 1ms/step - loss: 0.6846\n",
      "11/11 [==============================] - 0s 1ms/step - loss: 0.6685\n",
      "11/11 [==============================] - 0s 1ms/step - loss: 0.6464\n",
      "11/11 [==============================] - 0s 1ms/step - loss: 0.5974\n",
      "Epoch 48 of 90\n",
      "\n",
      "Testing for epoch 48 index 1:\n",
      "11/11 [==============================] - 0s 1ms/step - loss: 0.8339\n"
     ]
    },
    {
     "name": "stdout",
     "output_type": "stream",
     "text": [
      "11/11 [==============================] - 0s 1ms/step - loss: 0.7461\n",
      "11/11 [==============================] - 0s 1ms/step - loss: 0.7199\n",
      "11/11 [==============================] - 0s 1ms/step - loss: 0.7069\n",
      "11/11 [==============================] - 0s 1ms/step - loss: 0.7011\n",
      "11/11 [==============================] - 0s 1ms/step - loss: 0.6910\n",
      "11/11 [==============================] - 0s 1ms/step - loss: 0.6824\n",
      "11/11 [==============================] - 0s 1ms/step - loss: 0.6662\n",
      "11/11 [==============================] - 0s 2ms/step - loss: 0.6422\n",
      "11/11 [==============================] - 0s 1000us/step - loss: 0.5934\n",
      "Epoch 49 of 90\n",
      "\n",
      "Testing for epoch 49 index 1:\n",
      "11/11 [==============================] - 0s 1ms/step - loss: 0.8412\n",
      "11/11 [==============================] - 0s 1ms/step - loss: 0.7489\n",
      "11/11 [==============================] - 0s 1ms/step - loss: 0.7214\n",
      "11/11 [==============================] - 0s 1ms/step - loss: 0.7079\n",
      "11/11 [==============================] - 0s 1ms/step - loss: 0.7018\n",
      "11/11 [==============================] - 0s 1ms/step - loss: 0.6911\n",
      "11/11 [==============================] - 0s 1ms/step - loss: 0.6812\n",
      "11/11 [==============================] - 0s 1ms/step - loss: 0.6654\n",
      "11/11 [==============================] - 0s 1ms/step - loss: 0.6398\n",
      "11/11 [==============================] - 0s 1ms/step - loss: 0.5892\n",
      "Epoch 50 of 90\n",
      "\n",
      "Testing for epoch 50 index 1:\n",
      "11/11 [==============================] - 0s 1ms/step - loss: 0.8338\n",
      "11/11 [==============================] - 0s 1ms/step - loss: 0.7443\n",
      "11/11 [==============================] - 0s 1ms/step - loss: 0.7179\n",
      "11/11 [==============================] - 0s 1ms/step - loss: 0.7042\n",
      "11/11 [==============================] - 0s 1ms/step - loss: 0.6990\n",
      "11/11 [==============================] - 0s 1ms/step - loss: 0.6887\n",
      "11/11 [==============================] - 0s 1ms/step - loss: 0.6783\n",
      "11/11 [==============================] - 0s 2ms/step - loss: 0.6640\n",
      "11/11 [==============================] - 0s 1ms/step - loss: 0.6389\n",
      "11/11 [==============================] - 0s 1ms/step - loss: 0.5906\n",
      "Epoch 51 of 90\n",
      "\n",
      "Testing for epoch 51 index 1:\n",
      "11/11 [==============================] - 0s 1ms/step - loss: 0.8335\n",
      "11/11 [==============================] - 0s 1000us/step - loss: 0.7449\n",
      "11/11 [==============================] - 0s 1000us/step - loss: 0.7191\n",
      "11/11 [==============================] - 0s 1ms/step - loss: 0.7057\n",
      "11/11 [==============================] - 0s 1ms/step - loss: 0.7005\n",
      "11/11 [==============================] - 0s 897us/step - loss: 0.6903\n",
      "11/11 [==============================] - 0s 1ms/step - loss: 0.6800\n",
      "11/11 [==============================] - 0s 1ms/step - loss: 0.6661\n",
      "11/11 [==============================] - 0s 900us/step - loss: 0.6410\n",
      "11/11 [==============================] - 0s 1ms/step - loss: 0.5940\n",
      "Epoch 52 of 90\n",
      "\n",
      "Testing for epoch 52 index 1:\n",
      "11/11 [==============================] - 0s 1ms/step - loss: 0.8312\n",
      "11/11 [==============================] - 0s 1ms/step - loss: 0.7434\n",
      "11/11 [==============================] - 0s 1ms/step - loss: 0.7183\n",
      "11/11 [==============================] - 0s 1ms/step - loss: 0.7050\n",
      "11/11 [==============================] - 0s 2ms/step - loss: 0.7000\n",
      "11/11 [==============================] - 0s 1ms/step - loss: 0.6899\n",
      "11/11 [==============================] - 0s 1ms/step - loss: 0.6790\n",
      "11/11 [==============================] - 0s 1ms/step - loss: 0.6662\n",
      "11/11 [==============================] - 0s 1ms/step - loss: 0.6411\n",
      "11/11 [==============================] - 0s 1ms/step - loss: 0.5953\n",
      "Epoch 53 of 90\n",
      "\n",
      "Testing for epoch 53 index 1:\n",
      "11/11 [==============================] - 0s 1ms/step - loss: 0.8348\n",
      "11/11 [==============================] - 0s 1ms/step - loss: 0.7440\n",
      "11/11 [==============================] - 0s 1ms/step - loss: 0.7182\n",
      "11/11 [==============================] - 0s 1ms/step - loss: 0.7044\n",
      "11/11 [==============================] - 0s 1ms/step - loss: 0.6987\n",
      "11/11 [==============================] - 0s 1ms/step - loss: 0.6890\n",
      "11/11 [==============================] - 0s 1ms/step - loss: 0.6778\n",
      "11/11 [==============================] - 0s 1ms/step - loss: 0.6648\n",
      "11/11 [==============================] - 0s 2ms/step - loss: 0.6386\n",
      "11/11 [==============================] - 0s 1ms/step - loss: 0.5921\n",
      "Epoch 54 of 90\n",
      "\n",
      "Testing for epoch 54 index 1:\n",
      "11/11 [==============================] - 0s 1ms/step - loss: 0.8271\n",
      "11/11 [==============================] - 0s 1ms/step - loss: 0.7405\n",
      "11/11 [==============================] - 0s 2ms/step - loss: 0.7161\n",
      "11/11 [==============================] - 0s 1ms/step - loss: 0.7029\n",
      "11/11 [==============================] - 0s 1ms/step - loss: 0.6975\n",
      "11/11 [==============================] - 0s 1ms/step - loss: 0.6884\n",
      "11/11 [==============================] - 0s 1ms/step - loss: 0.6778\n",
      "11/11 [==============================] - 0s 1ms/step - loss: 0.6655\n",
      "11/11 [==============================] - 0s 1ms/step - loss: 0.6402\n",
      "11/11 [==============================] - 0s 1ms/step - loss: 0.5964\n",
      "Epoch 55 of 90\n",
      "\n",
      "Testing for epoch 55 index 1:\n",
      "11/11 [==============================] - 0s 1ms/step - loss: 0.8279\n",
      "11/11 [==============================] - 0s 1ms/step - loss: 0.7402\n",
      "11/11 [==============================] - 0s 1ms/step - loss: 0.7157\n",
      "11/11 [==============================] - 0s 1000us/step - loss: 0.7023\n",
      "11/11 [==============================] - 0s 1ms/step - loss: 0.6970\n",
      "11/11 [==============================] - 0s 1ms/step - loss: 0.6877\n",
      "11/11 [==============================] - 0s 1ms/step - loss: 0.6773\n",
      "11/11 [==============================] - 0s 1ms/step - loss: 0.6648\n",
      "11/11 [==============================] - 0s 2ms/step - loss: 0.6389\n",
      "11/11 [==============================] - 0s 1ms/step - loss: 0.5953\n",
      "Epoch 56 of 90\n",
      "\n",
      "Testing for epoch 56 index 1:\n",
      "11/11 [==============================] - 0s 3ms/step - loss: 0.8274\n",
      "11/11 [==============================] - 0s 1ms/step - loss: 0.7397\n",
      "11/11 [==============================] - 0s 2ms/step - loss: 0.7155\n",
      "11/11 [==============================] - 0s 1ms/step - loss: 0.7021\n",
      "11/11 [==============================] - 0s 1ms/step - loss: 0.6970\n",
      "11/11 [==============================] - 0s 1ms/step - loss: 0.6877\n",
      "11/11 [==============================] - 0s 1ms/step - loss: 0.6774\n",
      "11/11 [==============================] - 0s 1ms/step - loss: 0.6649\n",
      "11/11 [==============================] - 0s 1ms/step - loss: 0.6389\n",
      "11/11 [==============================] - 0s 903us/step - loss: 0.5960\n",
      "Epoch 57 of 90\n",
      "\n",
      "Testing for epoch 57 index 1:\n",
      "11/11 [==============================] - 0s 1ms/step - loss: 0.8341\n",
      "11/11 [==============================] - 0s 1ms/step - loss: 0.7414\n",
      "11/11 [==============================] - 0s 1ms/step - loss: 0.7160\n",
      "11/11 [==============================] - 0s 1ms/step - loss: 0.7020\n",
      "11/11 [==============================] - 0s 1ms/step - loss: 0.6966\n",
      "11/11 [==============================] - 0s 1ms/step - loss: 0.6861\n",
      "11/11 [==============================] - 0s 1ms/step - loss: 0.6760\n",
      "11/11 [==============================] - 0s 2ms/step - loss: 0.6629\n",
      "11/11 [==============================] - 0s 1ms/step - loss: 0.6351\n",
      "11/11 [==============================] - 0s 1ms/step - loss: 0.5906\n",
      "Epoch 58 of 90\n",
      "\n",
      "Testing for epoch 58 index 1:\n",
      "11/11 [==============================] - 0s 1ms/step - loss: 0.8384\n",
      "11/11 [==============================] - 0s 1ms/step - loss: 0.7431\n",
      "11/11 [==============================] - 0s 1ms/step - loss: 0.7171\n",
      "11/11 [==============================] - 0s 2ms/step - loss: 0.7030\n",
      "11/11 [==============================] - 0s 2ms/step - loss: 0.6973\n",
      "11/11 [==============================] - 0s 2ms/step - loss: 0.6859\n",
      "11/11 [==============================] - 0s 1ms/step - loss: 0.6759\n",
      "11/11 [==============================] - 0s 2ms/step - loss: 0.6629\n",
      "11/11 [==============================] - 0s 1ms/step - loss: 0.6340\n",
      "11/11 [==============================] - 0s 1ms/step - loss: 0.5890\n",
      "Epoch 59 of 90\n",
      "\n",
      "Testing for epoch 59 index 1:\n",
      "11/11 [==============================] - 0s 1000us/step - loss: 0.8464\n",
      "11/11 [==============================] - 0s 1ms/step - loss: 0.7450\n",
      "11/11 [==============================] - 0s 2ms/step - loss: 0.7171\n",
      "11/11 [==============================] - 0s 1000us/step - loss: 0.7028\n",
      "11/11 [==============================] - 0s 1ms/step - loss: 0.6968\n",
      "11/11 [==============================] - 0s 1ms/step - loss: 0.6845\n",
      "11/11 [==============================] - 0s 1ms/step - loss: 0.6738\n",
      "11/11 [==============================] - 0s 1ms/step - loss: 0.6605\n",
      "11/11 [==============================] - 0s 1ms/step - loss: 0.6294\n",
      "11/11 [==============================] - 0s 1ms/step - loss: 0.5827\n",
      "Epoch 60 of 90\n",
      "\n",
      "Testing for epoch 60 index 1:\n",
      "11/11 [==============================] - 0s 1ms/step - loss: 0.8154\n",
      "11/11 [==============================] - 0s 1ms/step - loss: 0.7345\n",
      "11/11 [==============================] - 0s 1ms/step - loss: 0.7123\n",
      "11/11 [==============================] - 0s 1ms/step - loss: 0.7010\n",
      "11/11 [==============================] - 0s 1ms/step - loss: 0.6961\n",
      "11/11 [==============================] - 0s 2ms/step - loss: 0.6862\n",
      "11/11 [==============================] - 0s 1ms/step - loss: 0.6777\n",
      "11/11 [==============================] - 0s 1000us/step - loss: 0.6671\n",
      "11/11 [==============================] - 0s 1ms/step - loss: 0.6418\n",
      "11/11 [==============================] - 0s 1ms/step - loss: 0.6046\n",
      "Epoch 61 of 90\n",
      "\n",
      "Testing for epoch 61 index 1:\n",
      "11/11 [==============================] - 0s 1ms/step - loss: 0.8369\n",
      "11/11 [==============================] - 0s 1ms/step - loss: 0.7413\n",
      "11/11 [==============================] - 0s 1ms/step - loss: 0.7152\n",
      "11/11 [==============================] - 0s 1ms/step - loss: 0.7020\n",
      "11/11 [==============================] - 0s 1ms/step - loss: 0.6962\n",
      "11/11 [==============================] - 0s 1ms/step - loss: 0.6845\n",
      "11/11 [==============================] - 0s 1ms/step - loss: 0.6746\n",
      "11/11 [==============================] - 0s 1ms/step - loss: 0.6622\n",
      "11/11 [==============================] - 0s 1ms/step - loss: 0.6322\n",
      "11/11 [==============================] - 0s 2ms/step - loss: 0.5893\n",
      "Epoch 62 of 90\n",
      "\n",
      "Testing for epoch 62 index 1:\n",
      "11/11 [==============================] - 0s 1ms/step - loss: 0.8326\n",
      "11/11 [==============================] - 0s 1ms/step - loss: 0.7394\n",
      "11/11 [==============================] - 0s 1ms/step - loss: 0.7140\n",
      "11/11 [==============================] - 0s 2ms/step - loss: 0.7013\n",
      "11/11 [==============================] - 0s 900us/step - loss: 0.6957\n",
      "11/11 [==============================] - 0s 1ms/step - loss: 0.6842\n",
      "11/11 [==============================] - 0s 1ms/step - loss: 0.6747\n",
      "11/11 [==============================] - 0s 1ms/step - loss: 0.6626\n",
      "11/11 [==============================] - 0s 1ms/step - loss: 0.6331\n",
      "11/11 [==============================] - 0s 1000us/step - loss: 0.5919\n",
      "Epoch 63 of 90\n",
      "\n",
      "Testing for epoch 63 index 1:\n",
      "11/11 [==============================] - 0s 1ms/step - loss: 0.8400\n",
      "11/11 [==============================] - 0s 1ms/step - loss: 0.7421\n",
      "11/11 [==============================] - 0s 1ms/step - loss: 0.7154\n",
      "11/11 [==============================] - 0s 1ms/step - loss: 0.7021\n",
      "11/11 [==============================] - 0s 1ms/step - loss: 0.6962\n",
      "11/11 [==============================] - 0s 1ms/step - loss: 0.6842\n",
      "11/11 [==============================] - 0s 1ms/step - loss: 0.6741\n",
      "11/11 [==============================] - 0s 2ms/step - loss: 0.6617\n",
      "11/11 [==============================] - 0s 1ms/step - loss: 0.6303\n",
      "11/11 [==============================] - 0s 1ms/step - loss: 0.5876\n",
      "Epoch 64 of 90\n",
      "\n",
      "Testing for epoch 64 index 1:\n",
      "11/11 [==============================] - 0s 1ms/step - loss: 0.8327\n",
      "11/11 [==============================] - 0s 2ms/step - loss: 0.7403\n",
      "11/11 [==============================] - 0s 1000us/step - loss: 0.7149\n",
      "11/11 [==============================] - 0s 1ms/step - loss: 0.7027\n",
      "11/11 [==============================] - 0s 1ms/step - loss: 0.6970\n",
      "11/11 [==============================] - 0s 1ms/step - loss: 0.6856\n",
      "11/11 [==============================] - 0s 1ms/step - loss: 0.6759\n",
      "11/11 [==============================] - 0s 1ms/step - loss: 0.6645\n",
      "11/11 [==============================] - 0s 1ms/step - loss: 0.6346\n",
      "11/11 [==============================] - 0s 1ms/step - loss: 0.5947\n",
      "Epoch 65 of 90\n",
      "\n",
      "Testing for epoch 65 index 1:\n",
      "11/11 [==============================] - 0s 1ms/step - loss: 0.8331\n",
      "11/11 [==============================] - 0s 1ms/step - loss: 0.7381\n",
      "11/11 [==============================] - 0s 1ms/step - loss: 0.7119\n",
      "11/11 [==============================] - 0s 1ms/step - loss: 0.6996\n",
      "11/11 [==============================] - 0s 1ms/step - loss: 0.6936\n",
      "11/11 [==============================] - 0s 2ms/step - loss: 0.6820\n",
      "11/11 [==============================] - 0s 1ms/step - loss: 0.6717\n",
      "11/11 [==============================] - 0s 1ms/step - loss: 0.6604\n",
      "11/11 [==============================] - 0s 1ms/step - loss: 0.6294\n",
      "11/11 [==============================] - 0s 1ms/step - loss: 0.5889\n",
      "Epoch 66 of 90\n",
      "\n",
      "Testing for epoch 66 index 1:\n",
      "11/11 [==============================] - 0s 1ms/step - loss: 0.8611\n",
      "11/11 [==============================] - 0s 1ms/step - loss: 0.7484\n",
      "11/11 [==============================] - 0s 1000us/step - loss: 0.7174\n",
      "11/11 [==============================] - 0s 1ms/step - loss: 0.7030\n",
      "11/11 [==============================] - 0s 1ms/step - loss: 0.6957\n",
      "11/11 [==============================] - 0s 1ms/step - loss: 0.6821\n",
      "11/11 [==============================] - 0s 1ms/step - loss: 0.6699\n",
      "11/11 [==============================] - 0s 1ms/step - loss: 0.6568\n",
      "11/11 [==============================] - 0s 1ms/step - loss: 0.6200\n",
      "11/11 [==============================] - 0s 2ms/step - loss: 0.5730\n",
      "Epoch 67 of 90\n",
      "\n",
      "Testing for epoch 67 index 1:\n",
      "11/11 [==============================] - 0s 1ms/step - loss: 0.8546\n",
      "11/11 [==============================] - 0s 1ms/step - loss: 0.7461\n",
      "11/11 [==============================] - 0s 2ms/step - loss: 0.7163\n",
      "11/11 [==============================] - 0s 900us/step - loss: 0.7025\n",
      "11/11 [==============================] - 0s 996us/step - loss: 0.6950\n",
      "11/11 [==============================] - 0s 1ms/step - loss: 0.6824\n",
      "11/11 [==============================] - 0s 1ms/step - loss: 0.6707\n",
      "11/11 [==============================] - 0s 1ms/step - loss: 0.6581\n",
      "11/11 [==============================] - 0s 1ms/step - loss: 0.6225\n",
      "11/11 [==============================] - 0s 1ms/step - loss: 0.5776\n",
      "Epoch 68 of 90\n",
      "\n",
      "Testing for epoch 68 index 1:\n",
      "11/11 [==============================] - 0s 1ms/step - loss: 0.8357\n",
      "11/11 [==============================] - 0s 1ms/step - loss: 0.7387\n",
      "11/11 [==============================] - 0s 2ms/step - loss: 0.7123\n",
      "11/11 [==============================] - 0s 2ms/step - loss: 0.7000\n",
      "11/11 [==============================] - 0s 1ms/step - loss: 0.6932\n",
      "11/11 [==============================] - 0s 1ms/step - loss: 0.6820\n",
      "11/11 [==============================] - 0s 1ms/step - loss: 0.6715\n",
      "11/11 [==============================] - 0s 1ms/step - loss: 0.6603\n",
      "11/11 [==============================] - 0s 1ms/step - loss: 0.6284\n",
      "11/11 [==============================] - 0s 1ms/step - loss: 0.5883\n",
      "Epoch 69 of 90\n",
      "\n",
      "Testing for epoch 69 index 1:\n",
      "11/11 [==============================] - 0s 1000us/step - loss: 0.8252\n",
      "11/11 [==============================] - 0s 1ms/step - loss: 0.7357\n",
      "11/11 [==============================] - 0s 1ms/step - loss: 0.7117\n",
      "11/11 [==============================] - 0s 1ms/step - loss: 0.7004\n",
      "11/11 [==============================] - 0s 1ms/step - loss: 0.6941\n",
      "11/11 [==============================] - 0s 997us/step - loss: 0.6838\n",
      "11/11 [==============================] - 0s 1ms/step - loss: 0.6742\n",
      "11/11 [==============================] - 0s 1ms/step - loss: 0.6639\n",
      "11/11 [==============================] - 0s 1ms/step - loss: 0.6345\n",
      "11/11 [==============================] - 0s 1ms/step - loss: 0.5976\n",
      "Epoch 70 of 90\n",
      "\n",
      "Testing for epoch 70 index 1:\n",
      "11/11 [==============================] - 0s 2ms/step - loss: 0.8237\n",
      "11/11 [==============================] - 0s 1ms/step - loss: 0.7346\n",
      "11/11 [==============================] - 0s 1ms/step - loss: 0.7111\n",
      "11/11 [==============================] - 0s 1ms/step - loss: 0.7000\n",
      "11/11 [==============================] - 0s 900us/step - loss: 0.6937\n"
     ]
    },
    {
     "name": "stdout",
     "output_type": "stream",
     "text": [
      "11/11 [==============================] - 0s 1ms/step - loss: 0.6836\n",
      "11/11 [==============================] - 0s 1ms/step - loss: 0.6740\n",
      "11/11 [==============================] - 0s 1ms/step - loss: 0.6638\n",
      "11/11 [==============================] - 0s 1ms/step - loss: 0.6348\n",
      "11/11 [==============================] - 0s 1ms/step - loss: 0.5982\n",
      "Epoch 71 of 90\n",
      "\n",
      "Testing for epoch 71 index 1:\n",
      "11/11 [==============================] - 0s 1ms/step - loss: 0.8210\n",
      "11/11 [==============================] - 0s 1ms/step - loss: 0.7329\n",
      "11/11 [==============================] - 0s 1ms/step - loss: 0.7100\n",
      "11/11 [==============================] - 0s 1ms/step - loss: 0.6992\n",
      "11/11 [==============================] - 0s 1000us/step - loss: 0.6929\n",
      "11/11 [==============================] - 0s 2ms/step - loss: 0.6830\n",
      "11/11 [==============================] - 0s 1ms/step - loss: 0.6736\n",
      "11/11 [==============================] - 0s 1ms/step - loss: 0.6635\n",
      "11/11 [==============================] - 0s 1ms/step - loss: 0.6350\n",
      "11/11 [==============================] - 0s 1ms/step - loss: 0.5990\n",
      "Epoch 72 of 90\n",
      "\n",
      "Testing for epoch 72 index 1:\n",
      "11/11 [==============================] - 0s 1ms/step - loss: 0.8302\n",
      "11/11 [==============================] - 0s 1ms/step - loss: 0.7350\n",
      "11/11 [==============================] - 0s 1ms/step - loss: 0.7106\n",
      "11/11 [==============================] - 0s 1ms/step - loss: 0.6990\n",
      "11/11 [==============================] - 0s 1ms/step - loss: 0.6922\n",
      "11/11 [==============================] - 0s 1ms/step - loss: 0.6816\n",
      "11/11 [==============================] - 0s 1ms/step - loss: 0.6715\n",
      "11/11 [==============================] - 0s 900us/step - loss: 0.6607\n",
      "11/11 [==============================] - 0s 1ms/step - loss: 0.6301\n",
      "11/11 [==============================] - 0s 3ms/step - loss: 0.5916\n",
      "Epoch 73 of 90\n",
      "\n",
      "Testing for epoch 73 index 1:\n",
      "11/11 [==============================] - 0s 1ms/step - loss: 0.8453\n",
      "11/11 [==============================] - 0s 1ms/step - loss: 0.7397\n",
      "11/11 [==============================] - 0s 1ms/step - loss: 0.7131\n",
      "11/11 [==============================] - 0s 2ms/step - loss: 0.7003\n",
      "11/11 [==============================] - 0s 1ms/step - loss: 0.6928\n",
      "11/11 [==============================] - 0s 1ms/step - loss: 0.6811\n",
      "11/11 [==============================] - 0s 1ms/step - loss: 0.6700\n",
      "11/11 [==============================] - 0s 1ms/step - loss: 0.6582\n",
      "11/11 [==============================] - 0s 2ms/step - loss: 0.6245\n",
      "11/11 [==============================] - 0s 1ms/step - loss: 0.5822\n",
      "Epoch 74 of 90\n",
      "\n",
      "Testing for epoch 74 index 1:\n",
      "11/11 [==============================] - 0s 1000us/step - loss: 0.8512\n",
      "11/11 [==============================] - 0s 1ms/step - loss: 0.7412\n",
      "11/11 [==============================] - 0s 1ms/step - loss: 0.7135\n",
      "11/11 [==============================] - 0s 2ms/step - loss: 0.7003\n",
      "11/11 [==============================] - 0s 1ms/step - loss: 0.6926\n",
      "11/11 [==============================] - 0s 1ms/step - loss: 0.6804\n",
      "11/11 [==============================] - 0s 1ms/step - loss: 0.6689\n",
      "11/11 [==============================] - 0s 1ms/step - loss: 0.6566\n",
      "11/11 [==============================] - 0s 1000us/step - loss: 0.6216\n",
      "11/11 [==============================] - 0s 1ms/step - loss: 0.5778\n",
      "Epoch 75 of 90\n",
      "\n",
      "Testing for epoch 75 index 1:\n",
      "11/11 [==============================] - 0s 1ms/step - loss: 0.8325\n",
      "11/11 [==============================] - 0s 900us/step - loss: 0.7348\n",
      "11/11 [==============================] - 0s 900us/step - loss: 0.7104\n",
      "11/11 [==============================] - 0s 1ms/step - loss: 0.6987\n",
      "11/11 [==============================] - 0s 1000us/step - loss: 0.6919\n",
      "11/11 [==============================] - 0s 1ms/step - loss: 0.6807\n",
      "11/11 [==============================] - 0s 1ms/step - loss: 0.6707\n",
      "11/11 [==============================] - 0s 3ms/step - loss: 0.6596\n",
      "11/11 [==============================] - 0s 2ms/step - loss: 0.6286\n",
      "11/11 [==============================] - 0s 1ms/step - loss: 0.5898\n",
      "Epoch 76 of 90\n",
      "\n",
      "Testing for epoch 76 index 1:\n",
      "11/11 [==============================] - 0s 1ms/step - loss: 0.8360\n",
      "11/11 [==============================] - 0s 2ms/step - loss: 0.7368\n",
      "11/11 [==============================] - 0s 1ms/step - loss: 0.7120\n",
      "11/11 [==============================] - 0s 1000us/step - loss: 0.7002\n",
      "11/11 [==============================] - 0s 903us/step - loss: 0.6933\n",
      "11/11 [==============================] - 0s 1ms/step - loss: 0.6820\n",
      "11/11 [==============================] - 0s 1ms/step - loss: 0.6717\n",
      "11/11 [==============================] - 0s 997us/step - loss: 0.6602\n",
      "11/11 [==============================] - 0s 1ms/step - loss: 0.6289\n",
      "11/11 [==============================] - 0s 1ms/step - loss: 0.5898\n",
      "Epoch 77 of 90\n",
      "\n",
      "Testing for epoch 77 index 1:\n",
      "11/11 [==============================] - 0s 1ms/step - loss: 0.8336\n",
      "11/11 [==============================] - 0s 1ms/step - loss: 0.7351\n",
      "11/11 [==============================] - 0s 1ms/step - loss: 0.7106\n",
      "11/11 [==============================] - 0s 900us/step - loss: 0.6990\n",
      "11/11 [==============================] - 0s 1ms/step - loss: 0.6921\n",
      "11/11 [==============================] - 0s 1ms/step - loss: 0.6809\n",
      "11/11 [==============================] - 0s 2ms/step - loss: 0.6707\n",
      "11/11 [==============================] - 0s 1ms/step - loss: 0.6591\n",
      "11/11 [==============================] - 0s 1ms/step - loss: 0.6282\n",
      "11/11 [==============================] - 0s 1ms/step - loss: 0.5898\n",
      "Epoch 78 of 90\n",
      "\n",
      "Testing for epoch 78 index 1:\n",
      "11/11 [==============================] - 0s 2ms/step - loss: 0.8429\n",
      "11/11 [==============================] - 0s 2ms/step - loss: 0.7384\n",
      "11/11 [==============================] - 0s 1ms/step - loss: 0.7125\n",
      "11/11 [==============================] - 0s 900us/step - loss: 0.7002\n",
      "11/11 [==============================] - 0s 1ms/step - loss: 0.6928\n",
      "11/11 [==============================] - 0s 1ms/step - loss: 0.6810\n",
      "11/11 [==============================] - 0s 1ms/step - loss: 0.6701\n",
      "11/11 [==============================] - 0s 900us/step - loss: 0.6576\n",
      "11/11 [==============================] - 0s 1ms/step - loss: 0.6252\n",
      "11/11 [==============================] - 0s 1000us/step - loss: 0.5847\n",
      "Epoch 79 of 90\n",
      "\n",
      "Testing for epoch 79 index 1:\n",
      "11/11 [==============================] - 0s 1ms/step - loss: 0.8387\n",
      "11/11 [==============================] - 0s 1ms/step - loss: 0.7363\n",
      "11/11 [==============================] - 0s 1ms/step - loss: 0.7110\n",
      "11/11 [==============================] - 0s 1ms/step - loss: 0.6990\n",
      "11/11 [==============================] - 0s 1ms/step - loss: 0.6917\n",
      "11/11 [==============================] - 0s 2ms/step - loss: 0.6802\n",
      "11/11 [==============================] - 0s 2ms/step - loss: 0.6694\n",
      "11/11 [==============================] - 0s 1ms/step - loss: 0.6570\n",
      "11/11 [==============================] - 0s 1ms/step - loss: 0.6253\n",
      "11/11 [==============================] - 0s 1000us/step - loss: 0.5859\n",
      "Epoch 80 of 90\n",
      "\n",
      "Testing for epoch 80 index 1:\n",
      "11/11 [==============================] - 0s 2ms/step - loss: 0.8374\n",
      "11/11 [==============================] - 0s 1ms/step - loss: 0.7360\n",
      "11/11 [==============================] - 0s 1ms/step - loss: 0.7111\n",
      "11/11 [==============================] - 0s 1ms/step - loss: 0.6993\n",
      "11/11 [==============================] - 0s 1ms/step - loss: 0.6920\n",
      "11/11 [==============================] - 0s 1ms/step - loss: 0.6807\n",
      "11/11 [==============================] - 0s 1ms/step - loss: 0.6700\n",
      "11/11 [==============================] - 0s 1ms/step - loss: 0.6575\n",
      "11/11 [==============================] - 0s 999us/step - loss: 0.6261\n",
      "11/11 [==============================] - 0s 1ms/step - loss: 0.5875\n",
      "Epoch 81 of 90\n",
      "\n",
      "Testing for epoch 81 index 1:\n",
      "11/11 [==============================] - 0s 1ms/step - loss: 0.8357\n",
      "11/11 [==============================] - 0s 1ms/step - loss: 0.7348\n",
      "11/11 [==============================] - 0s 1ms/step - loss: 0.7100\n",
      "11/11 [==============================] - 0s 1ms/step - loss: 0.6983\n",
      "11/11 [==============================] - 0s 1ms/step - loss: 0.6910\n",
      "11/11 [==============================] - 0s 2ms/step - loss: 0.6798\n",
      "11/11 [==============================] - 0s 1000us/step - loss: 0.6691\n",
      "11/11 [==============================] - 0s 1000us/step - loss: 0.6564\n",
      "11/11 [==============================] - 0s 1ms/step - loss: 0.6251\n",
      "11/11 [==============================] - 0s 1ms/step - loss: 0.5871\n",
      "Epoch 82 of 90\n",
      "\n",
      "Testing for epoch 82 index 1:\n",
      "11/11 [==============================] - 0s 900us/step - loss: 0.8366\n",
      "11/11 [==============================] - 0s 1ms/step - loss: 0.7362\n",
      "11/11 [==============================] - 0s 1ms/step - loss: 0.7116\n",
      "11/11 [==============================] - 0s 1000us/step - loss: 0.7000\n",
      "11/11 [==============================] - 0s 1ms/step - loss: 0.6927\n",
      "11/11 [==============================] - 0s 1ms/step - loss: 0.6816\n",
      "11/11 [==============================] - 0s 1ms/step - loss: 0.6707\n",
      "11/11 [==============================] - 0s 1ms/step - loss: 0.6581\n",
      "11/11 [==============================] - 0s 1ms/step - loss: 0.6269\n",
      "11/11 [==============================] - 0s 1ms/step - loss: 0.5896\n",
      "Epoch 83 of 90\n",
      "\n",
      "Testing for epoch 83 index 1:\n",
      "11/11 [==============================] - 0s 900us/step - loss: 0.8407\n",
      "11/11 [==============================] - 0s 1ms/step - loss: 0.7367\n",
      "11/11 [==============================] - 0s 1ms/step - loss: 0.7114\n",
      "11/11 [==============================] - 0s 1ms/step - loss: 0.6994\n",
      "11/11 [==============================] - 0s 2ms/step - loss: 0.6918\n",
      "11/11 [==============================] - 0s 2ms/step - loss: 0.6804\n",
      "11/11 [==============================] - 0s 1ms/step - loss: 0.6686\n",
      "11/11 [==============================] - 0s 1ms/step - loss: 0.6559\n",
      "11/11 [==============================] - 0s 1ms/step - loss: 0.6235\n",
      "11/11 [==============================] - 0s 1ms/step - loss: 0.5854\n",
      "Epoch 84 of 90\n",
      "\n",
      "Testing for epoch 84 index 1:\n",
      "11/11 [==============================] - 0s 1ms/step - loss: 0.8438\n",
      "11/11 [==============================] - 0s 997us/step - loss: 0.7372\n",
      "11/11 [==============================] - 0s 995us/step - loss: 0.7113\n",
      "11/11 [==============================] - 0s 1ms/step - loss: 0.6991\n",
      "11/11 [==============================] - 0s 1ms/step - loss: 0.6913\n",
      "11/11 [==============================] - 0s 1ms/step - loss: 0.6796\n",
      "11/11 [==============================] - 0s 953us/step - loss: 0.6670\n",
      "11/11 [==============================] - 0s 1ms/step - loss: 0.6542\n",
      "11/11 [==============================] - 0s 2ms/step - loss: 0.6211\n",
      "11/11 [==============================] - 0s 2ms/step - loss: 0.5825\n",
      "Epoch 85 of 90\n",
      "\n",
      "Testing for epoch 85 index 1:\n",
      "11/11 [==============================] - 0s 1ms/step - loss: 0.8434\n",
      "11/11 [==============================] - 0s 2ms/step - loss: 0.7363\n",
      "11/11 [==============================] - 0s 2ms/step - loss: 0.7103\n",
      "11/11 [==============================] - 0s 1ms/step - loss: 0.6982\n",
      "11/11 [==============================] - 0s 1ms/step - loss: 0.6902\n",
      "11/11 [==============================] - 0s 1ms/step - loss: 0.6785\n",
      "11/11 [==============================] - 0s 1ms/step - loss: 0.6657\n",
      "11/11 [==============================] - 0s 1ms/step - loss: 0.6529\n",
      "11/11 [==============================] - 0s 2ms/step - loss: 0.6197\n",
      "11/11 [==============================] - 0s 1ms/step - loss: 0.5812\n",
      "Epoch 86 of 90\n",
      "\n",
      "Testing for epoch 86 index 1:\n",
      "11/11 [==============================] - 0s 1000us/step - loss: 0.8433\n",
      "11/11 [==============================] - 0s 1ms/step - loss: 0.7364\n",
      "11/11 [==============================] - 0s 1ms/step - loss: 0.7105\n",
      "11/11 [==============================] - 0s 1ms/step - loss: 0.6985\n",
      "11/11 [==============================] - 0s 2ms/step - loss: 0.6905\n",
      "11/11 [==============================] - 0s 2ms/step - loss: 0.6789\n",
      "11/11 [==============================] - 0s 1ms/step - loss: 0.6661\n",
      "11/11 [==============================] - 0s 1000us/step - loss: 0.6531\n",
      "11/11 [==============================] - 0s 1ms/step - loss: 0.6203\n",
      "11/11 [==============================] - 0s 1ms/step - loss: 0.5819\n",
      "Epoch 87 of 90\n",
      "\n",
      "Testing for epoch 87 index 1:\n",
      "11/11 [==============================] - 0s 1ms/step - loss: 0.8428\n",
      "11/11 [==============================] - 0s 1ms/step - loss: 0.7365\n",
      "11/11 [==============================] - 0s 1ms/step - loss: 0.7109\n",
      "11/11 [==============================] - 0s 2ms/step - loss: 0.6990\n",
      "11/11 [==============================] - 0s 2ms/step - loss: 0.6910\n",
      "11/11 [==============================] - 0s 2ms/step - loss: 0.6795\n",
      "11/11 [==============================] - 0s 1ms/step - loss: 0.6668\n",
      "11/11 [==============================] - 0s 1ms/step - loss: 0.6537\n",
      "11/11 [==============================] - 0s 1ms/step - loss: 0.6214\n",
      "11/11 [==============================] - 0s 1ms/step - loss: 0.5833\n",
      "Epoch 88 of 90\n",
      "\n",
      "Testing for epoch 88 index 1:\n",
      "11/11 [==============================] - 0s 1ms/step - loss: 0.8386\n",
      "11/11 [==============================] - 0s 1ms/step - loss: 0.7349\n",
      "11/11 [==============================] - 0s 1ms/step - loss: 0.7104\n",
      "11/11 [==============================] - 0s 1ms/step - loss: 0.6989\n",
      "11/11 [==============================] - 0s 1ms/step - loss: 0.6910\n",
      "11/11 [==============================] - 0s 1ms/step - loss: 0.6799\n",
      "11/11 [==============================] - 0s 1ms/step - loss: 0.6676\n",
      "11/11 [==============================] - 0s 3ms/step - loss: 0.6546\n",
      "11/11 [==============================] - 0s 2ms/step - loss: 0.6234\n",
      "11/11 [==============================] - 0s 1ms/step - loss: 0.5863\n",
      "Epoch 89 of 90\n",
      "\n",
      "Testing for epoch 89 index 1:\n",
      "11/11 [==============================] - 0s 2ms/step - loss: 0.8377\n",
      "11/11 [==============================] - 0s 1ms/step - loss: 0.7328\n",
      "11/11 [==============================] - 0s 1ms/step - loss: 0.7086\n",
      "11/11 [==============================] - 0s 1ms/step - loss: 0.6970\n",
      "11/11 [==============================] - 0s 1ms/step - loss: 0.6891\n",
      "11/11 [==============================] - 0s 1ms/step - loss: 0.6779\n",
      "11/11 [==============================] - 0s 1ms/step - loss: 0.6656\n",
      "11/11 [==============================] - 0s 1000us/step - loss: 0.6525\n",
      "11/11 [==============================] - 0s 1ms/step - loss: 0.6210\n",
      "11/11 [==============================] - 0s 1ms/step - loss: 0.5839\n",
      "Epoch 90 of 90\n",
      "\n",
      "Testing for epoch 90 index 1:\n",
      "11/11 [==============================] - 0s 1ms/step - loss: 0.8475\n",
      "11/11 [==============================] - 0s 999us/step - loss: 0.7355\n",
      "11/11 [==============================] - 0s 1ms/step - loss: 0.7101\n",
      "11/11 [==============================] - 0s 1ms/step - loss: 0.6979\n",
      "11/11 [==============================] - 0s 1ms/step - loss: 0.6894\n",
      "11/11 [==============================] - 0s 1ms/step - loss: 0.6775\n",
      "11/11 [==============================] - 0s 2ms/step - loss: 0.6644\n",
      "11/11 [==============================] - 0s 1ms/step - loss: 0.6506\n",
      "11/11 [==============================] - 0s 1ms/step - loss: 0.6169\n",
      "11/11 [==============================] - 0s 2ms/step - loss: 0.5778\n",
      "F1 Score: 0.284\n"
     ]
    }
   ],
   "source": [
    "mog=MO_GAAL(k=10, stop_epochs=30, lr_d=0.0001, lr_g=0.0001, decay=0.7, contamination=0.3)\n",
    "mog.fit(X_train_d)\n",
    "\n",
    "# On détecte les anomalies sur le test set\n",
    "yhat = mog.predict(X_test_d)\n",
    "\n",
    "# On score avec F1\n",
    "score = f1_score(y_test_bi, yhat,average=\"weighted\")\n",
    "print('F1 Score: %.3f' % score)"
   ]
  },
  {
   "cell_type": "code",
   "execution_count": 473,
   "metadata": {},
   "outputs": [
    {
     "name": "stdout",
     "output_type": "stream",
     "text": [
      "F1 Score: 0.284\n"
     ]
    }
   ],
   "source": [
    "print('F1 Score: %.3f' % score)"
   ]
  }
 ],
 "metadata": {
  "kernelspec": {
   "display_name": "Python 3",
   "language": "python",
   "name": "python3"
  },
  "language_info": {
   "codemirror_mode": {
    "name": "ipython",
    "version": 3
   },
   "file_extension": ".py",
   "mimetype": "text/x-python",
   "name": "python",
   "nbconvert_exporter": "python",
   "pygments_lexer": "ipython3",
   "version": "3.8.3"
  }
 },
 "nbformat": 4,
 "nbformat_minor": 4
}
